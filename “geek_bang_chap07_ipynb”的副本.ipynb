{
  "nbformat": 4,
  "nbformat_minor": 0,
  "metadata": {
    "colab": {
      "name": "“geek_bang_chap07.ipynb”的副本",
      "provenance": [],
      "collapsed_sections": [],
      "include_colab_link": true
    },
    "kernelspec": {
      "name": "python3",
      "display_name": "Python 3"
    }
  },
  "cells": [
    {
      "cell_type": "markdown",
      "metadata": {
        "id": "view-in-github",
        "colab_type": "text"
      },
      "source": [
        "<a href=\"https://colab.research.google.com/github/yagamishi/cython/blob/main/%E2%80%9Cgeek_bang_chap07_ipynb%E2%80%9D%E7%9A%84%E5%89%AF%E6%9C%AC.ipynb\" target=\"_parent\"><img src=\"https://colab.research.google.com/assets/colab-badge.svg\" alt=\"Open In Colab\"/></a>"
      ]
    },
    {
      "cell_type": "markdown",
      "metadata": {
        "id": "DjCilgClZfmR"
      },
      "source": [
        "# Lending Club\n",
        "---\n",
        "\n",
        "Here we document our experiment with lending club data set.\n"
      ]
    },
    {
      "cell_type": "code",
      "metadata": {
        "id": "w9mAYyNpeVu5"
      },
      "source": [
        "import numpy as np"
      ],
      "execution_count": 1,
      "outputs": []
    },
    {
      "cell_type": "code",
      "metadata": {
        "colab": {
          "base_uri": "https://localhost:8080/"
        },
        "id": "TDRr3EO5Zn7x",
        "outputId": "a05382af-f81c-4b50-ab69-355234b13120"
      },
      "source": [
        "!wget https://storage.googleapis.com/open_data_file/final.zip"
      ],
      "execution_count": null,
      "outputs": [
        {
          "output_type": "stream",
          "text": [
            "--2021-08-20 05:12:47--  https://storage.googleapis.com/open_data_file/final.zip\n",
            "Resolving storage.googleapis.com (storage.googleapis.com)... 108.177.119.128, 108.177.126.128, 108.177.127.128, ...\n",
            "Connecting to storage.googleapis.com (storage.googleapis.com)|108.177.119.128|:443... connected.\n",
            "HTTP request sent, awaiting response... 403 Forbidden\n",
            "2021-08-20 05:12:47 ERROR 403: Forbidden.\n",
            "\n"
          ],
          "name": "stdout"
        }
      ]
    },
    {
      "cell_type": "code",
      "metadata": {
        "colab": {
          "base_uri": "https://localhost:8080/"
        },
        "id": "2kqGiwZlZwGc",
        "outputId": "a977b636-01e3-4bfd-eac8-75e284cac896"
      },
      "source": [
        "!ls"
      ],
      "execution_count": 2,
      "outputs": [
        {
          "output_type": "stream",
          "text": [
            "sample_data\n"
          ],
          "name": "stdout"
        }
      ]
    },
    {
      "cell_type": "code",
      "metadata": {
        "colab": {
          "base_uri": "https://localhost:8080/"
        },
        "id": "xwZ0P0ejZys5",
        "outputId": "41926618-c28a-4047-f288-df594afa5b12"
      },
      "source": [
        "!unzip final.zip"
      ],
      "execution_count": null,
      "outputs": [
        {
          "output_type": "stream",
          "text": [
            "unzip:  cannot find or open final.zip, final.zip.zip or final.zip.ZIP.\n"
          ],
          "name": "stdout"
        }
      ]
    },
    {
      "cell_type": "code",
      "metadata": {
        "colab": {
          "base_uri": "https://localhost:8080/"
        },
        "id": "3kO1Bi8Z-no-",
        "outputId": "f015b8c7-5627-46f9-b3a3-5572d0d1b683"
      },
      "source": [
        "import os\n",
        " \n",
        "print(os.getcwd())\n",
        " \n",
        " \n",
        "# 修改工作路径\n",
        "import os\n",
        "from google.colab import drive\n",
        "drive.mount('/content/gdrive')\n",
        "path = \"/content/gdrive/MyDrive/Colab \"+\"Notebooks/homework2\"\n",
        "os.chdir(path)\n"
      ],
      "execution_count": 3,
      "outputs": [
        {
          "output_type": "stream",
          "text": [
            "/content\n",
            "Mounted at /content/gdrive\n"
          ],
          "name": "stdout"
        }
      ]
    },
    {
      "cell_type": "code",
      "metadata": {
        "id": "KKMlEA9oZ18Z"
      },
      "source": [
        "import pandas as pd\n",
        "train = pd.read_csv(path+\"/train_final.csv\", engine='python')\n",
        "test = pd.read_csv(path+\"/test_final.csv\", engine='python')"
      ],
      "execution_count": 4,
      "outputs": []
    },
    {
      "cell_type": "code",
      "metadata": {
        "colab": {
          "base_uri": "https://localhost:8080/"
        },
        "id": "6Bk2hYd2_wCX",
        "outputId": "f2b9721b-a7a2-4217-b13f-87364a8d481f"
      },
      "source": [
        "print(train.shape)\n",
        "test.shape"
      ],
      "execution_count": 5,
      "outputs": [
        {
          "output_type": "stream",
          "text": [
            "(50000, 146)\n"
          ],
          "name": "stdout"
        },
        {
          "output_type": "execute_result",
          "data": {
            "text/plain": [
              "(50000, 146)"
            ]
          },
          "metadata": {},
          "execution_count": 5
        }
      ]
    },
    {
      "cell_type": "code",
      "metadata": {
        "colab": {
          "base_uri": "https://localhost:8080/"
        },
        "id": "u8enl_O1aACN",
        "outputId": "802420ba-8b1c-46fd-c00e-6faa4da46bc0"
      },
      "source": [
        "# 检查空值\n",
        "pd.isnull(train['loan_status']).sum()"
      ],
      "execution_count": null,
      "outputs": [
        {
          "output_type": "execute_result",
          "data": {
            "text/plain": [
              "0"
            ]
          },
          "metadata": {},
          "execution_count": 5
        }
      ]
    },
    {
      "cell_type": "code",
      "metadata": {
        "colab": {
          "base_uri": "https://localhost:8080/"
        },
        "id": "7hBUA0qWaNBM",
        "outputId": "46fc3d7f-c6b1-4dc3-cec0-7e07cc4c2778"
      },
      "source": [
        "# 检查训练集y值\n",
        "train['loan_status'].value_counts()"
      ],
      "execution_count": null,
      "outputs": [
        {
          "output_type": "execute_result",
          "data": {
            "text/plain": [
              "1    39788\n",
              "0    10212\n",
              "Name: loan_status, dtype: int64"
            ]
          },
          "metadata": {},
          "execution_count": 6
        }
      ]
    },
    {
      "cell_type": "code",
      "metadata": {
        "colab": {
          "base_uri": "https://localhost:8080/"
        },
        "id": "WkIvmG1CDu17",
        "outputId": "199ba668-4d4b-4777-ac62-e2bb1a757e1d"
      },
      "source": [
        "# 检查测试集y值\n",
        "test['loan_status'].value_counts()"
      ],
      "execution_count": null,
      "outputs": [
        {
          "output_type": "execute_result",
          "data": {
            "text/plain": [
              "1    40226\n",
              "0     9774\n",
              "Name: loan_status, dtype: int64"
            ]
          },
          "metadata": {},
          "execution_count": 7
        }
      ]
    },
    {
      "cell_type": "code",
      "metadata": {
        "colab": {
          "base_uri": "https://localhost:8080/"
        },
        "id": "PUGcka7zD0mZ",
        "outputId": "6da0ce07-fe62-4bce-aeec-3f347001faf0"
      },
      "source": [
        "# 列出continuous开头的列字段\n",
        "[x for x in train.columns.to_list() if x.startswith('continuous')]"
      ],
      "execution_count": null,
      "outputs": [
        {
          "output_type": "execute_result",
          "data": {
            "text/plain": [
              "['continuous_annual_inc',\n",
              " 'continuous_annual_inc_joint',\n",
              " 'continuous_delinq_2yrs',\n",
              " 'continuous_dti',\n",
              " 'continuous_dti_joint',\n",
              " 'continuous_fico_range_high',\n",
              " 'continuous_fico_range_low',\n",
              " 'continuous_funded_amnt',\n",
              " 'continuous_funded_amnt_inv',\n",
              " 'continuous_inq_last_6mths',\n",
              " 'continuous_installment',\n",
              " 'continuous_int_rate',\n",
              " 'continuous_last_fico_range_high',\n",
              " 'continuous_last_fico_range_low',\n",
              " 'continuous_loan_amnt',\n",
              " 'continuous_mths_since_last_delinq',\n",
              " 'continuous_mths_since_last_major_derog',\n",
              " 'continuous_mths_since_last_record',\n",
              " 'continuous_open_acc',\n",
              " 'continuous_pub_rec']"
            ]
          },
          "metadata": {},
          "execution_count": 17
        }
      ]
    },
    {
      "cell_type": "code",
      "metadata": {
        "colab": {
          "base_uri": "https://localhost:8080/"
        },
        "id": "DGMHTAd-EKU9",
        "outputId": "3274d63b-59e7-4d2c-da76-7c78b1093f93"
      },
      "source": [
        "# 看分位数\n",
        "train['continuous_funded_amnt'].describe()"
      ],
      "execution_count": null,
      "outputs": [
        {
          "output_type": "execute_result",
          "data": {
            "text/plain": [
              "count    50000.00000\n",
              "mean     14332.53650\n",
              "std       8617.58487\n",
              "min       1000.00000\n",
              "25%       7775.00000\n",
              "50%      12000.00000\n",
              "75%      20000.00000\n",
              "max      35000.00000\n",
              "Name: continuous_funded_amnt, dtype: float64"
            ]
          },
          "metadata": {},
          "execution_count": 31
        }
      ]
    },
    {
      "cell_type": "code",
      "metadata": {
        "id": "ejYBhd_pEVMd",
        "colab": {
          "base_uri": "https://localhost:8080/"
        },
        "outputId": "6f1018e0-0236-411e-d5f4-7769672753ba"
      },
      "source": [
        "# 查看更细的分位数,可以看到35%和40%是一样的，那就有可能有衍生变量\n",
        "train['continuous_funded_amnt'].describe(percentiles=np.arange(0, 1, 0.05))"
      ],
      "execution_count": null,
      "outputs": [
        {
          "output_type": "execute_result",
          "data": {
            "text/plain": [
              "count    50000.00000\n",
              "mean     14332.53650\n",
              "std       8617.58487\n",
              "min       1000.00000\n",
              "0%        1000.00000\n",
              "5%        3000.00000\n",
              "10%       4800.00000\n",
              "15%       5500.00000\n",
              "20%       6300.00000\n",
              "25%       7775.00000\n",
              "30%       8500.00000\n",
              "35%      10000.00000\n",
              "40%      10000.00000\n",
              "45%      11600.00000\n",
              "50%      12000.00000\n",
              "55%      14000.00000\n",
              "60%      15000.00000\n",
              "65%      16000.00000\n",
              "70%      18000.00000\n",
              "75%      20000.00000\n",
              "80%      21000.00000\n",
              "85%      24000.00000\n",
              "90%      28000.00000\n",
              "95%      32000.00000\n",
              "max      35000.00000\n",
              "Name: continuous_funded_amnt, dtype: float64"
            ]
          },
          "metadata": {},
          "execution_count": 32
        }
      ]
    },
    {
      "cell_type": "code",
      "metadata": {
        "colab": {
          "base_uri": "https://localhost:8080/"
        },
        "id": "ogYMCOBfFp9q",
        "outputId": "f7d3e31b-d417-429d-f796-b67c150a2b72"
      },
      "source": [
        "pd.isnull(train['continuous_funded_amnt']).sum()"
      ],
      "execution_count": null,
      "outputs": [
        {
          "output_type": "execute_result",
          "data": {
            "text/plain": [
              "0"
            ]
          },
          "metadata": {},
          "execution_count": 33
        }
      ]
    },
    {
      "cell_type": "code",
      "metadata": {
        "colab": {
          "base_uri": "https://localhost:8080/",
          "height": 174
        },
        "id": "xufqQcBdfEi3",
        "outputId": "033069fa-bb88-412b-862c-e6a00b0bf823"
      },
      "source": [
        "# 查看continuous_loan_amnt和y值是不是有关系\n",
        "train[['loan_status', 'continuous_funded_amnt']].groupby('loan_status').describe(percentiles=np.arange(0, 1, 0.1))"
      ],
      "execution_count": null,
      "outputs": [
        {
          "output_type": "execute_result",
          "data": {
            "text/html": [
              "<div>\n",
              "<style scoped>\n",
              "    .dataframe tbody tr th:only-of-type {\n",
              "        vertical-align: middle;\n",
              "    }\n",
              "\n",
              "    .dataframe tbody tr th {\n",
              "        vertical-align: top;\n",
              "    }\n",
              "\n",
              "    .dataframe thead tr th {\n",
              "        text-align: left;\n",
              "    }\n",
              "\n",
              "    .dataframe thead tr:last-of-type th {\n",
              "        text-align: right;\n",
              "    }\n",
              "</style>\n",
              "<table border=\"1\" class=\"dataframe\">\n",
              "  <thead>\n",
              "    <tr>\n",
              "      <th></th>\n",
              "      <th colspan=\"15\" halign=\"left\">continuous_funded_amnt</th>\n",
              "    </tr>\n",
              "    <tr>\n",
              "      <th></th>\n",
              "      <th>count</th>\n",
              "      <th>mean</th>\n",
              "      <th>std</th>\n",
              "      <th>min</th>\n",
              "      <th>0%</th>\n",
              "      <th>10%</th>\n",
              "      <th>20%</th>\n",
              "      <th>30%</th>\n",
              "      <th>40%</th>\n",
              "      <th>50%</th>\n",
              "      <th>60%</th>\n",
              "      <th>70%</th>\n",
              "      <th>80%</th>\n",
              "      <th>90%</th>\n",
              "      <th>max</th>\n",
              "    </tr>\n",
              "    <tr>\n",
              "      <th>loan_status</th>\n",
              "      <th></th>\n",
              "      <th></th>\n",
              "      <th></th>\n",
              "      <th></th>\n",
              "      <th></th>\n",
              "      <th></th>\n",
              "      <th></th>\n",
              "      <th></th>\n",
              "      <th></th>\n",
              "      <th></th>\n",
              "      <th></th>\n",
              "      <th></th>\n",
              "      <th></th>\n",
              "      <th></th>\n",
              "      <th></th>\n",
              "    </tr>\n",
              "  </thead>\n",
              "  <tbody>\n",
              "    <tr>\n",
              "      <th>0</th>\n",
              "      <td>10212.0</td>\n",
              "      <td>15622.400118</td>\n",
              "      <td>8628.850608</td>\n",
              "      <td>1000.0</td>\n",
              "      <td>1000.0</td>\n",
              "      <td>5000.0</td>\n",
              "      <td>8000.0</td>\n",
              "      <td>10000.0</td>\n",
              "      <td>12000.0</td>\n",
              "      <td>14950.0</td>\n",
              "      <td>16190.0</td>\n",
              "      <td>20000.0</td>\n",
              "      <td>23925.0</td>\n",
              "      <td>28000.0</td>\n",
              "      <td>35000.0</td>\n",
              "    </tr>\n",
              "    <tr>\n",
              "      <th>1</th>\n",
              "      <td>39788.0</td>\n",
              "      <td>14001.479718</td>\n",
              "      <td>8583.597232</td>\n",
              "      <td>1000.0</td>\n",
              "      <td>1000.0</td>\n",
              "      <td>4775.0</td>\n",
              "      <td>6000.0</td>\n",
              "      <td>8000.0</td>\n",
              "      <td>10000.0</td>\n",
              "      <td>12000.0</td>\n",
              "      <td>15000.0</td>\n",
              "      <td>18000.0</td>\n",
              "      <td>21000.0</td>\n",
              "      <td>27200.0</td>\n",
              "      <td>35000.0</td>\n",
              "    </tr>\n",
              "  </tbody>\n",
              "</table>\n",
              "</div>"
            ],
            "text/plain": [
              "            continuous_funded_amnt                ...                  \n",
              "                             count          mean  ...      90%      max\n",
              "loan_status                                       ...                  \n",
              "0                          10212.0  15622.400118  ...  28000.0  35000.0\n",
              "1                          39788.0  14001.479718  ...  27200.0  35000.0\n",
              "\n",
              "[2 rows x 15 columns]"
            ]
          },
          "metadata": {},
          "execution_count": 34
        }
      ]
    },
    {
      "cell_type": "code",
      "metadata": {
        "id": "D8pCHhkygks8"
      },
      "source": [
        "# 前面说的10000特别特殊,现在开始检验。生成新变量\n",
        "train['discrete_is_loan_10000'] = (train['continuous_funded_amnt']==10000).astype(np.int64)"
      ],
      "execution_count": null,
      "outputs": []
    },
    {
      "cell_type": "code",
      "metadata": {
        "colab": {
          "base_uri": "https://localhost:8080/"
        },
        "id": "he8ZPjuAhHCX",
        "outputId": "aa04885d-efaa-41cc-95c0-421b86290fd1"
      },
      "source": [
        "train['discrete_is_loan_10000'].value_counts()"
      ],
      "execution_count": null,
      "outputs": [
        {
          "output_type": "execute_result",
          "data": {
            "text/plain": [
              "0    46323\n",
              "1     3677\n",
              "Name: discrete_is_loan_10000, dtype: int64"
            ]
          },
          "metadata": {},
          "execution_count": 36
        }
      ]
    },
    {
      "cell_type": "code",
      "metadata": {
        "colab": {
          "base_uri": "https://localhost:8080/",
          "height": 144
        },
        "id": "IbItfNfYhVGf",
        "outputId": "defecb93-f0d3-4519-9017-868f449a4327"
      },
      "source": [
        "# 离散数据用列联表，借款10000的违约的比较大。0--》1:4，1--〉1：5。loan_status：0是违约，1是不违约\n",
        "pd.crosstab(train['discrete_is_loan_10000'],train['loan_status'])"
      ],
      "execution_count": null,
      "outputs": [
        {
          "output_type": "execute_result",
          "data": {
            "text/html": [
              "<div>\n",
              "<style scoped>\n",
              "    .dataframe tbody tr th:only-of-type {\n",
              "        vertical-align: middle;\n",
              "    }\n",
              "\n",
              "    .dataframe tbody tr th {\n",
              "        vertical-align: top;\n",
              "    }\n",
              "\n",
              "    .dataframe thead th {\n",
              "        text-align: right;\n",
              "    }\n",
              "</style>\n",
              "<table border=\"1\" class=\"dataframe\">\n",
              "  <thead>\n",
              "    <tr style=\"text-align: right;\">\n",
              "      <th>loan_status</th>\n",
              "      <th>0</th>\n",
              "      <th>1</th>\n",
              "    </tr>\n",
              "    <tr>\n",
              "      <th>discrete_is_loan_10000</th>\n",
              "      <th></th>\n",
              "      <th></th>\n",
              "    </tr>\n",
              "  </thead>\n",
              "  <tbody>\n",
              "    <tr>\n",
              "      <th>0</th>\n",
              "      <td>9590</td>\n",
              "      <td>36733</td>\n",
              "    </tr>\n",
              "    <tr>\n",
              "      <th>1</th>\n",
              "      <td>622</td>\n",
              "      <td>3055</td>\n",
              "    </tr>\n",
              "  </tbody>\n",
              "</table>\n",
              "</div>"
            ],
            "text/plain": [
              "loan_status                0      1\n",
              "discrete_is_loan_10000             \n",
              "0                       9590  36733\n",
              "1                        622   3055"
            ]
          },
          "metadata": {},
          "execution_count": 37
        }
      ]
    },
    {
      "cell_type": "code",
      "metadata": {
        "id": "HQnrqoyIjCcq"
      },
      "source": [
        "# 下面开始baseline了\n",
        "# 这个命令是shuffle\n",
        "train_new = train.sample(frac=1)"
      ],
      "execution_count": 112,
      "outputs": []
    },
    {
      "cell_type": "code",
      "metadata": {
        "colab": {
          "base_uri": "https://localhost:8080/",
          "height": 256
        },
        "id": "_94kYP93j3MC",
        "outputId": "3e5658fd-a4a8-4b15-fb0e-1fa165eb9a45"
      },
      "source": [
        "# 查看shuffle是否成功\n",
        "train.head()"
      ],
      "execution_count": null,
      "outputs": [
        {
          "output_type": "execute_result",
          "data": {
            "text/html": [
              "<div>\n",
              "<style scoped>\n",
              "    .dataframe tbody tr th:only-of-type {\n",
              "        vertical-align: middle;\n",
              "    }\n",
              "\n",
              "    .dataframe tbody tr th {\n",
              "        vertical-align: top;\n",
              "    }\n",
              "\n",
              "    .dataframe thead th {\n",
              "        text-align: right;\n",
              "    }\n",
              "</style>\n",
              "<table border=\"1\" class=\"dataframe\">\n",
              "  <thead>\n",
              "    <tr style=\"text-align: right;\">\n",
              "      <th></th>\n",
              "      <th>continuous_annual_inc</th>\n",
              "      <th>continuous_annual_inc_joint</th>\n",
              "      <th>continuous_delinq_2yrs</th>\n",
              "      <th>continuous_dti</th>\n",
              "      <th>continuous_dti_joint</th>\n",
              "      <th>continuous_fico_range_high</th>\n",
              "      <th>continuous_fico_range_low</th>\n",
              "      <th>continuous_funded_amnt</th>\n",
              "      <th>continuous_funded_amnt_inv</th>\n",
              "      <th>continuous_inq_last_6mths</th>\n",
              "      <th>continuous_installment</th>\n",
              "      <th>continuous_int_rate</th>\n",
              "      <th>continuous_last_fico_range_high</th>\n",
              "      <th>continuous_last_fico_range_low</th>\n",
              "      <th>continuous_loan_amnt</th>\n",
              "      <th>loan_status</th>\n",
              "      <th>continuous_mths_since_last_delinq</th>\n",
              "      <th>continuous_mths_since_last_major_derog</th>\n",
              "      <th>continuous_mths_since_last_record</th>\n",
              "      <th>continuous_open_acc</th>\n",
              "      <th>continuous_pub_rec</th>\n",
              "      <th>discrete_addr_state_1_one_hot</th>\n",
              "      <th>discrete_addr_state_2_one_hot</th>\n",
              "      <th>discrete_addr_state_3_one_hot</th>\n",
              "      <th>discrete_addr_state_4_one_hot</th>\n",
              "      <th>discrete_addr_state_5_one_hot</th>\n",
              "      <th>discrete_addr_state_6_one_hot</th>\n",
              "      <th>discrete_addr_state_7_one_hot</th>\n",
              "      <th>discrete_addr_state_8_one_hot</th>\n",
              "      <th>discrete_addr_state_9_one_hot</th>\n",
              "      <th>discrete_addr_state_10_one_hot</th>\n",
              "      <th>discrete_addr_state_11_one_hot</th>\n",
              "      <th>discrete_addr_state_12_one_hot</th>\n",
              "      <th>discrete_addr_state_13_one_hot</th>\n",
              "      <th>discrete_addr_state_14_one_hot</th>\n",
              "      <th>discrete_addr_state_15_one_hot</th>\n",
              "      <th>discrete_addr_state_16_one_hot</th>\n",
              "      <th>discrete_addr_state_17_one_hot</th>\n",
              "      <th>discrete_addr_state_18_one_hot</th>\n",
              "      <th>discrete_addr_state_19_one_hot</th>\n",
              "      <th>...</th>\n",
              "      <th>discrete_purpose_12_one_hot</th>\n",
              "      <th>discrete_pymnt_plan_1_one_hot</th>\n",
              "      <th>discrete_sub_grade_1_one_hot</th>\n",
              "      <th>discrete_sub_grade_2_one_hot</th>\n",
              "      <th>discrete_sub_grade_3_one_hot</th>\n",
              "      <th>discrete_sub_grade_4_one_hot</th>\n",
              "      <th>discrete_sub_grade_5_one_hot</th>\n",
              "      <th>discrete_sub_grade_6_one_hot</th>\n",
              "      <th>discrete_sub_grade_7_one_hot</th>\n",
              "      <th>discrete_sub_grade_8_one_hot</th>\n",
              "      <th>discrete_sub_grade_9_one_hot</th>\n",
              "      <th>discrete_sub_grade_10_one_hot</th>\n",
              "      <th>discrete_sub_grade_11_one_hot</th>\n",
              "      <th>discrete_sub_grade_12_one_hot</th>\n",
              "      <th>discrete_sub_grade_13_one_hot</th>\n",
              "      <th>discrete_sub_grade_14_one_hot</th>\n",
              "      <th>discrete_sub_grade_15_one_hot</th>\n",
              "      <th>discrete_sub_grade_16_one_hot</th>\n",
              "      <th>discrete_sub_grade_17_one_hot</th>\n",
              "      <th>discrete_sub_grade_18_one_hot</th>\n",
              "      <th>discrete_sub_grade_19_one_hot</th>\n",
              "      <th>discrete_sub_grade_20_one_hot</th>\n",
              "      <th>discrete_sub_grade_21_one_hot</th>\n",
              "      <th>discrete_sub_grade_22_one_hot</th>\n",
              "      <th>discrete_sub_grade_23_one_hot</th>\n",
              "      <th>discrete_sub_grade_24_one_hot</th>\n",
              "      <th>discrete_sub_grade_25_one_hot</th>\n",
              "      <th>discrete_sub_grade_26_one_hot</th>\n",
              "      <th>discrete_sub_grade_27_one_hot</th>\n",
              "      <th>discrete_sub_grade_28_one_hot</th>\n",
              "      <th>discrete_sub_grade_29_one_hot</th>\n",
              "      <th>discrete_sub_grade_30_one_hot</th>\n",
              "      <th>discrete_sub_grade_31_one_hot</th>\n",
              "      <th>discrete_sub_grade_32_one_hot</th>\n",
              "      <th>discrete_sub_grade_33_one_hot</th>\n",
              "      <th>discrete_sub_grade_34_one_hot</th>\n",
              "      <th>discrete_sub_grade_35_one_hot</th>\n",
              "      <th>discrete_term_1_one_hot</th>\n",
              "      <th>discrete_term_2_one_hot</th>\n",
              "      <th>discrete_is_loan_10000</th>\n",
              "    </tr>\n",
              "  </thead>\n",
              "  <tbody>\n",
              "    <tr>\n",
              "      <th>0</th>\n",
              "      <td>55000.0</td>\n",
              "      <td>NaN</td>\n",
              "      <td>0.0</td>\n",
              "      <td>5.91</td>\n",
              "      <td>NaN</td>\n",
              "      <td>679.0</td>\n",
              "      <td>675.0</td>\n",
              "      <td>3600.0</td>\n",
              "      <td>3600.0</td>\n",
              "      <td>1.0</td>\n",
              "      <td>123.03</td>\n",
              "      <td>13.99</td>\n",
              "      <td>564.0</td>\n",
              "      <td>560.0</td>\n",
              "      <td>3600.0</td>\n",
              "      <td>1</td>\n",
              "      <td>30.0</td>\n",
              "      <td>30.0</td>\n",
              "      <td>NaN</td>\n",
              "      <td>7.0</td>\n",
              "      <td>0.0</td>\n",
              "      <td>1</td>\n",
              "      <td>0</td>\n",
              "      <td>0</td>\n",
              "      <td>0</td>\n",
              "      <td>0</td>\n",
              "      <td>0</td>\n",
              "      <td>0</td>\n",
              "      <td>0</td>\n",
              "      <td>0</td>\n",
              "      <td>0</td>\n",
              "      <td>0</td>\n",
              "      <td>0</td>\n",
              "      <td>0</td>\n",
              "      <td>0</td>\n",
              "      <td>0</td>\n",
              "      <td>0</td>\n",
              "      <td>0</td>\n",
              "      <td>0</td>\n",
              "      <td>0</td>\n",
              "      <td>...</td>\n",
              "      <td>0</td>\n",
              "      <td>1</td>\n",
              "      <td>1</td>\n",
              "      <td>0</td>\n",
              "      <td>0</td>\n",
              "      <td>0</td>\n",
              "      <td>0</td>\n",
              "      <td>0</td>\n",
              "      <td>0</td>\n",
              "      <td>0</td>\n",
              "      <td>0</td>\n",
              "      <td>0</td>\n",
              "      <td>0</td>\n",
              "      <td>0</td>\n",
              "      <td>0</td>\n",
              "      <td>0</td>\n",
              "      <td>0</td>\n",
              "      <td>0</td>\n",
              "      <td>0</td>\n",
              "      <td>0</td>\n",
              "      <td>0</td>\n",
              "      <td>0</td>\n",
              "      <td>0</td>\n",
              "      <td>0</td>\n",
              "      <td>0</td>\n",
              "      <td>0</td>\n",
              "      <td>0</td>\n",
              "      <td>0</td>\n",
              "      <td>0</td>\n",
              "      <td>0</td>\n",
              "      <td>0</td>\n",
              "      <td>0</td>\n",
              "      <td>0</td>\n",
              "      <td>0</td>\n",
              "      <td>0</td>\n",
              "      <td>0</td>\n",
              "      <td>0</td>\n",
              "      <td>1</td>\n",
              "      <td>0</td>\n",
              "      <td>0</td>\n",
              "    </tr>\n",
              "    <tr>\n",
              "      <th>1</th>\n",
              "      <td>65000.0</td>\n",
              "      <td>NaN</td>\n",
              "      <td>1.0</td>\n",
              "      <td>16.06</td>\n",
              "      <td>NaN</td>\n",
              "      <td>719.0</td>\n",
              "      <td>715.0</td>\n",
              "      <td>24700.0</td>\n",
              "      <td>24700.0</td>\n",
              "      <td>4.0</td>\n",
              "      <td>820.28</td>\n",
              "      <td>11.99</td>\n",
              "      <td>699.0</td>\n",
              "      <td>695.0</td>\n",
              "      <td>24700.0</td>\n",
              "      <td>1</td>\n",
              "      <td>6.0</td>\n",
              "      <td>NaN</td>\n",
              "      <td>NaN</td>\n",
              "      <td>22.0</td>\n",
              "      <td>0.0</td>\n",
              "      <td>0</td>\n",
              "      <td>1</td>\n",
              "      <td>0</td>\n",
              "      <td>0</td>\n",
              "      <td>0</td>\n",
              "      <td>0</td>\n",
              "      <td>0</td>\n",
              "      <td>0</td>\n",
              "      <td>0</td>\n",
              "      <td>0</td>\n",
              "      <td>0</td>\n",
              "      <td>0</td>\n",
              "      <td>0</td>\n",
              "      <td>0</td>\n",
              "      <td>0</td>\n",
              "      <td>0</td>\n",
              "      <td>0</td>\n",
              "      <td>0</td>\n",
              "      <td>0</td>\n",
              "      <td>...</td>\n",
              "      <td>0</td>\n",
              "      <td>1</td>\n",
              "      <td>0</td>\n",
              "      <td>1</td>\n",
              "      <td>0</td>\n",
              "      <td>0</td>\n",
              "      <td>0</td>\n",
              "      <td>0</td>\n",
              "      <td>0</td>\n",
              "      <td>0</td>\n",
              "      <td>0</td>\n",
              "      <td>0</td>\n",
              "      <td>0</td>\n",
              "      <td>0</td>\n",
              "      <td>0</td>\n",
              "      <td>0</td>\n",
              "      <td>0</td>\n",
              "      <td>0</td>\n",
              "      <td>0</td>\n",
              "      <td>0</td>\n",
              "      <td>0</td>\n",
              "      <td>0</td>\n",
              "      <td>0</td>\n",
              "      <td>0</td>\n",
              "      <td>0</td>\n",
              "      <td>0</td>\n",
              "      <td>0</td>\n",
              "      <td>0</td>\n",
              "      <td>0</td>\n",
              "      <td>0</td>\n",
              "      <td>0</td>\n",
              "      <td>0</td>\n",
              "      <td>0</td>\n",
              "      <td>0</td>\n",
              "      <td>0</td>\n",
              "      <td>0</td>\n",
              "      <td>0</td>\n",
              "      <td>1</td>\n",
              "      <td>0</td>\n",
              "      <td>0</td>\n",
              "    </tr>\n",
              "    <tr>\n",
              "      <th>2</th>\n",
              "      <td>63000.0</td>\n",
              "      <td>71000.0</td>\n",
              "      <td>0.0</td>\n",
              "      <td>10.78</td>\n",
              "      <td>13.85</td>\n",
              "      <td>699.0</td>\n",
              "      <td>695.0</td>\n",
              "      <td>20000.0</td>\n",
              "      <td>20000.0</td>\n",
              "      <td>0.0</td>\n",
              "      <td>432.66</td>\n",
              "      <td>10.78</td>\n",
              "      <td>704.0</td>\n",
              "      <td>700.0</td>\n",
              "      <td>20000.0</td>\n",
              "      <td>1</td>\n",
              "      <td>NaN</td>\n",
              "      <td>NaN</td>\n",
              "      <td>NaN</td>\n",
              "      <td>6.0</td>\n",
              "      <td>0.0</td>\n",
              "      <td>0</td>\n",
              "      <td>0</td>\n",
              "      <td>1</td>\n",
              "      <td>0</td>\n",
              "      <td>0</td>\n",
              "      <td>0</td>\n",
              "      <td>0</td>\n",
              "      <td>0</td>\n",
              "      <td>0</td>\n",
              "      <td>0</td>\n",
              "      <td>0</td>\n",
              "      <td>0</td>\n",
              "      <td>0</td>\n",
              "      <td>0</td>\n",
              "      <td>0</td>\n",
              "      <td>0</td>\n",
              "      <td>0</td>\n",
              "      <td>0</td>\n",
              "      <td>0</td>\n",
              "      <td>...</td>\n",
              "      <td>0</td>\n",
              "      <td>1</td>\n",
              "      <td>0</td>\n",
              "      <td>0</td>\n",
              "      <td>1</td>\n",
              "      <td>0</td>\n",
              "      <td>0</td>\n",
              "      <td>0</td>\n",
              "      <td>0</td>\n",
              "      <td>0</td>\n",
              "      <td>0</td>\n",
              "      <td>0</td>\n",
              "      <td>0</td>\n",
              "      <td>0</td>\n",
              "      <td>0</td>\n",
              "      <td>0</td>\n",
              "      <td>0</td>\n",
              "      <td>0</td>\n",
              "      <td>0</td>\n",
              "      <td>0</td>\n",
              "      <td>0</td>\n",
              "      <td>0</td>\n",
              "      <td>0</td>\n",
              "      <td>0</td>\n",
              "      <td>0</td>\n",
              "      <td>0</td>\n",
              "      <td>0</td>\n",
              "      <td>0</td>\n",
              "      <td>0</td>\n",
              "      <td>0</td>\n",
              "      <td>0</td>\n",
              "      <td>0</td>\n",
              "      <td>0</td>\n",
              "      <td>0</td>\n",
              "      <td>0</td>\n",
              "      <td>0</td>\n",
              "      <td>0</td>\n",
              "      <td>0</td>\n",
              "      <td>1</td>\n",
              "      <td>0</td>\n",
              "    </tr>\n",
              "    <tr>\n",
              "      <th>3</th>\n",
              "      <td>104433.0</td>\n",
              "      <td>NaN</td>\n",
              "      <td>1.0</td>\n",
              "      <td>25.37</td>\n",
              "      <td>NaN</td>\n",
              "      <td>699.0</td>\n",
              "      <td>695.0</td>\n",
              "      <td>10400.0</td>\n",
              "      <td>10400.0</td>\n",
              "      <td>3.0</td>\n",
              "      <td>289.91</td>\n",
              "      <td>22.45</td>\n",
              "      <td>704.0</td>\n",
              "      <td>700.0</td>\n",
              "      <td>10400.0</td>\n",
              "      <td>1</td>\n",
              "      <td>12.0</td>\n",
              "      <td>NaN</td>\n",
              "      <td>NaN</td>\n",
              "      <td>12.0</td>\n",
              "      <td>0.0</td>\n",
              "      <td>1</td>\n",
              "      <td>0</td>\n",
              "      <td>0</td>\n",
              "      <td>0</td>\n",
              "      <td>0</td>\n",
              "      <td>0</td>\n",
              "      <td>0</td>\n",
              "      <td>0</td>\n",
              "      <td>0</td>\n",
              "      <td>0</td>\n",
              "      <td>0</td>\n",
              "      <td>0</td>\n",
              "      <td>0</td>\n",
              "      <td>0</td>\n",
              "      <td>0</td>\n",
              "      <td>0</td>\n",
              "      <td>0</td>\n",
              "      <td>0</td>\n",
              "      <td>0</td>\n",
              "      <td>...</td>\n",
              "      <td>0</td>\n",
              "      <td>1</td>\n",
              "      <td>0</td>\n",
              "      <td>0</td>\n",
              "      <td>0</td>\n",
              "      <td>1</td>\n",
              "      <td>0</td>\n",
              "      <td>0</td>\n",
              "      <td>0</td>\n",
              "      <td>0</td>\n",
              "      <td>0</td>\n",
              "      <td>0</td>\n",
              "      <td>0</td>\n",
              "      <td>0</td>\n",
              "      <td>0</td>\n",
              "      <td>0</td>\n",
              "      <td>0</td>\n",
              "      <td>0</td>\n",
              "      <td>0</td>\n",
              "      <td>0</td>\n",
              "      <td>0</td>\n",
              "      <td>0</td>\n",
              "      <td>0</td>\n",
              "      <td>0</td>\n",
              "      <td>0</td>\n",
              "      <td>0</td>\n",
              "      <td>0</td>\n",
              "      <td>0</td>\n",
              "      <td>0</td>\n",
              "      <td>0</td>\n",
              "      <td>0</td>\n",
              "      <td>0</td>\n",
              "      <td>0</td>\n",
              "      <td>0</td>\n",
              "      <td>0</td>\n",
              "      <td>0</td>\n",
              "      <td>0</td>\n",
              "      <td>0</td>\n",
              "      <td>1</td>\n",
              "      <td>0</td>\n",
              "    </tr>\n",
              "    <tr>\n",
              "      <th>4</th>\n",
              "      <td>34000.0</td>\n",
              "      <td>NaN</td>\n",
              "      <td>0.0</td>\n",
              "      <td>10.20</td>\n",
              "      <td>NaN</td>\n",
              "      <td>694.0</td>\n",
              "      <td>690.0</td>\n",
              "      <td>11950.0</td>\n",
              "      <td>11950.0</td>\n",
              "      <td>0.0</td>\n",
              "      <td>405.18</td>\n",
              "      <td>13.44</td>\n",
              "      <td>759.0</td>\n",
              "      <td>755.0</td>\n",
              "      <td>11950.0</td>\n",
              "      <td>1</td>\n",
              "      <td>NaN</td>\n",
              "      <td>NaN</td>\n",
              "      <td>NaN</td>\n",
              "      <td>5.0</td>\n",
              "      <td>0.0</td>\n",
              "      <td>0</td>\n",
              "      <td>0</td>\n",
              "      <td>0</td>\n",
              "      <td>1</td>\n",
              "      <td>0</td>\n",
              "      <td>0</td>\n",
              "      <td>0</td>\n",
              "      <td>0</td>\n",
              "      <td>0</td>\n",
              "      <td>0</td>\n",
              "      <td>0</td>\n",
              "      <td>0</td>\n",
              "      <td>0</td>\n",
              "      <td>0</td>\n",
              "      <td>0</td>\n",
              "      <td>0</td>\n",
              "      <td>0</td>\n",
              "      <td>0</td>\n",
              "      <td>0</td>\n",
              "      <td>...</td>\n",
              "      <td>0</td>\n",
              "      <td>1</td>\n",
              "      <td>0</td>\n",
              "      <td>0</td>\n",
              "      <td>0</td>\n",
              "      <td>0</td>\n",
              "      <td>1</td>\n",
              "      <td>0</td>\n",
              "      <td>0</td>\n",
              "      <td>0</td>\n",
              "      <td>0</td>\n",
              "      <td>0</td>\n",
              "      <td>0</td>\n",
              "      <td>0</td>\n",
              "      <td>0</td>\n",
              "      <td>0</td>\n",
              "      <td>0</td>\n",
              "      <td>0</td>\n",
              "      <td>0</td>\n",
              "      <td>0</td>\n",
              "      <td>0</td>\n",
              "      <td>0</td>\n",
              "      <td>0</td>\n",
              "      <td>0</td>\n",
              "      <td>0</td>\n",
              "      <td>0</td>\n",
              "      <td>0</td>\n",
              "      <td>0</td>\n",
              "      <td>0</td>\n",
              "      <td>0</td>\n",
              "      <td>0</td>\n",
              "      <td>0</td>\n",
              "      <td>0</td>\n",
              "      <td>0</td>\n",
              "      <td>0</td>\n",
              "      <td>0</td>\n",
              "      <td>0</td>\n",
              "      <td>1</td>\n",
              "      <td>0</td>\n",
              "      <td>0</td>\n",
              "    </tr>\n",
              "  </tbody>\n",
              "</table>\n",
              "<p>5 rows × 147 columns</p>\n",
              "</div>"
            ],
            "text/plain": [
              "   continuous_annual_inc  ...  discrete_is_loan_10000\n",
              "0                55000.0  ...                       0\n",
              "1                65000.0  ...                       0\n",
              "2                63000.0  ...                       0\n",
              "3               104433.0  ...                       0\n",
              "4                34000.0  ...                       0\n",
              "\n",
              "[5 rows x 147 columns]"
            ]
          },
          "metadata": {},
          "execution_count": 50
        }
      ]
    },
    {
      "cell_type": "code",
      "metadata": {
        "colab": {
          "base_uri": "https://localhost:8080/",
          "height": 256
        },
        "id": "P8vluprQj7LI",
        "outputId": "8f8001fb-ae7b-425e-d42e-6b98922b70c5"
      },
      "source": [
        "train_new.head()"
      ],
      "execution_count": null,
      "outputs": [
        {
          "output_type": "execute_result",
          "data": {
            "text/html": [
              "<div>\n",
              "<style scoped>\n",
              "    .dataframe tbody tr th:only-of-type {\n",
              "        vertical-align: middle;\n",
              "    }\n",
              "\n",
              "    .dataframe tbody tr th {\n",
              "        vertical-align: top;\n",
              "    }\n",
              "\n",
              "    .dataframe thead th {\n",
              "        text-align: right;\n",
              "    }\n",
              "</style>\n",
              "<table border=\"1\" class=\"dataframe\">\n",
              "  <thead>\n",
              "    <tr style=\"text-align: right;\">\n",
              "      <th></th>\n",
              "      <th>continuous_annual_inc</th>\n",
              "      <th>continuous_annual_inc_joint</th>\n",
              "      <th>continuous_delinq_2yrs</th>\n",
              "      <th>continuous_dti</th>\n",
              "      <th>continuous_dti_joint</th>\n",
              "      <th>continuous_fico_range_high</th>\n",
              "      <th>continuous_fico_range_low</th>\n",
              "      <th>continuous_funded_amnt</th>\n",
              "      <th>continuous_funded_amnt_inv</th>\n",
              "      <th>continuous_inq_last_6mths</th>\n",
              "      <th>continuous_installment</th>\n",
              "      <th>continuous_int_rate</th>\n",
              "      <th>continuous_last_fico_range_high</th>\n",
              "      <th>continuous_last_fico_range_low</th>\n",
              "      <th>continuous_loan_amnt</th>\n",
              "      <th>loan_status</th>\n",
              "      <th>continuous_mths_since_last_delinq</th>\n",
              "      <th>continuous_mths_since_last_major_derog</th>\n",
              "      <th>continuous_mths_since_last_record</th>\n",
              "      <th>continuous_open_acc</th>\n",
              "      <th>continuous_pub_rec</th>\n",
              "      <th>discrete_addr_state_1_one_hot</th>\n",
              "      <th>discrete_addr_state_2_one_hot</th>\n",
              "      <th>discrete_addr_state_3_one_hot</th>\n",
              "      <th>discrete_addr_state_4_one_hot</th>\n",
              "      <th>discrete_addr_state_5_one_hot</th>\n",
              "      <th>discrete_addr_state_6_one_hot</th>\n",
              "      <th>discrete_addr_state_7_one_hot</th>\n",
              "      <th>discrete_addr_state_8_one_hot</th>\n",
              "      <th>discrete_addr_state_9_one_hot</th>\n",
              "      <th>discrete_addr_state_10_one_hot</th>\n",
              "      <th>discrete_addr_state_11_one_hot</th>\n",
              "      <th>discrete_addr_state_12_one_hot</th>\n",
              "      <th>discrete_addr_state_13_one_hot</th>\n",
              "      <th>discrete_addr_state_14_one_hot</th>\n",
              "      <th>discrete_addr_state_15_one_hot</th>\n",
              "      <th>discrete_addr_state_16_one_hot</th>\n",
              "      <th>discrete_addr_state_17_one_hot</th>\n",
              "      <th>discrete_addr_state_18_one_hot</th>\n",
              "      <th>discrete_addr_state_19_one_hot</th>\n",
              "      <th>...</th>\n",
              "      <th>discrete_purpose_12_one_hot</th>\n",
              "      <th>discrete_pymnt_plan_1_one_hot</th>\n",
              "      <th>discrete_sub_grade_1_one_hot</th>\n",
              "      <th>discrete_sub_grade_2_one_hot</th>\n",
              "      <th>discrete_sub_grade_3_one_hot</th>\n",
              "      <th>discrete_sub_grade_4_one_hot</th>\n",
              "      <th>discrete_sub_grade_5_one_hot</th>\n",
              "      <th>discrete_sub_grade_6_one_hot</th>\n",
              "      <th>discrete_sub_grade_7_one_hot</th>\n",
              "      <th>discrete_sub_grade_8_one_hot</th>\n",
              "      <th>discrete_sub_grade_9_one_hot</th>\n",
              "      <th>discrete_sub_grade_10_one_hot</th>\n",
              "      <th>discrete_sub_grade_11_one_hot</th>\n",
              "      <th>discrete_sub_grade_12_one_hot</th>\n",
              "      <th>discrete_sub_grade_13_one_hot</th>\n",
              "      <th>discrete_sub_grade_14_one_hot</th>\n",
              "      <th>discrete_sub_grade_15_one_hot</th>\n",
              "      <th>discrete_sub_grade_16_one_hot</th>\n",
              "      <th>discrete_sub_grade_17_one_hot</th>\n",
              "      <th>discrete_sub_grade_18_one_hot</th>\n",
              "      <th>discrete_sub_grade_19_one_hot</th>\n",
              "      <th>discrete_sub_grade_20_one_hot</th>\n",
              "      <th>discrete_sub_grade_21_one_hot</th>\n",
              "      <th>discrete_sub_grade_22_one_hot</th>\n",
              "      <th>discrete_sub_grade_23_one_hot</th>\n",
              "      <th>discrete_sub_grade_24_one_hot</th>\n",
              "      <th>discrete_sub_grade_25_one_hot</th>\n",
              "      <th>discrete_sub_grade_26_one_hot</th>\n",
              "      <th>discrete_sub_grade_27_one_hot</th>\n",
              "      <th>discrete_sub_grade_28_one_hot</th>\n",
              "      <th>discrete_sub_grade_29_one_hot</th>\n",
              "      <th>discrete_sub_grade_30_one_hot</th>\n",
              "      <th>discrete_sub_grade_31_one_hot</th>\n",
              "      <th>discrete_sub_grade_32_one_hot</th>\n",
              "      <th>discrete_sub_grade_33_one_hot</th>\n",
              "      <th>discrete_sub_grade_34_one_hot</th>\n",
              "      <th>discrete_sub_grade_35_one_hot</th>\n",
              "      <th>discrete_term_1_one_hot</th>\n",
              "      <th>discrete_term_2_one_hot</th>\n",
              "      <th>discrete_is_loan_10000</th>\n",
              "    </tr>\n",
              "  </thead>\n",
              "  <tbody>\n",
              "    <tr>\n",
              "      <th>47569</th>\n",
              "      <td>23000.0</td>\n",
              "      <td>NaN</td>\n",
              "      <td>0.0</td>\n",
              "      <td>16.81</td>\n",
              "      <td>NaN</td>\n",
              "      <td>709.0</td>\n",
              "      <td>705.0</td>\n",
              "      <td>1600.0</td>\n",
              "      <td>1600.0</td>\n",
              "      <td>0.0</td>\n",
              "      <td>52.38</td>\n",
              "      <td>10.99</td>\n",
              "      <td>739.0</td>\n",
              "      <td>735.0</td>\n",
              "      <td>1600.0</td>\n",
              "      <td>1</td>\n",
              "      <td>NaN</td>\n",
              "      <td>NaN</td>\n",
              "      <td>NaN</td>\n",
              "      <td>6.0</td>\n",
              "      <td>0.0</td>\n",
              "      <td>0</td>\n",
              "      <td>0</td>\n",
              "      <td>1</td>\n",
              "      <td>0</td>\n",
              "      <td>0</td>\n",
              "      <td>0</td>\n",
              "      <td>0</td>\n",
              "      <td>0</td>\n",
              "      <td>0</td>\n",
              "      <td>0</td>\n",
              "      <td>0</td>\n",
              "      <td>0</td>\n",
              "      <td>0</td>\n",
              "      <td>0</td>\n",
              "      <td>0</td>\n",
              "      <td>0</td>\n",
              "      <td>0</td>\n",
              "      <td>0</td>\n",
              "      <td>0</td>\n",
              "      <td>...</td>\n",
              "      <td>0</td>\n",
              "      <td>1</td>\n",
              "      <td>0</td>\n",
              "      <td>0</td>\n",
              "      <td>1</td>\n",
              "      <td>0</td>\n",
              "      <td>0</td>\n",
              "      <td>0</td>\n",
              "      <td>0</td>\n",
              "      <td>0</td>\n",
              "      <td>0</td>\n",
              "      <td>0</td>\n",
              "      <td>0</td>\n",
              "      <td>0</td>\n",
              "      <td>0</td>\n",
              "      <td>0</td>\n",
              "      <td>0</td>\n",
              "      <td>0</td>\n",
              "      <td>0</td>\n",
              "      <td>0</td>\n",
              "      <td>0</td>\n",
              "      <td>0</td>\n",
              "      <td>0</td>\n",
              "      <td>0</td>\n",
              "      <td>0</td>\n",
              "      <td>0</td>\n",
              "      <td>0</td>\n",
              "      <td>0</td>\n",
              "      <td>0</td>\n",
              "      <td>0</td>\n",
              "      <td>0</td>\n",
              "      <td>0</td>\n",
              "      <td>0</td>\n",
              "      <td>0</td>\n",
              "      <td>0</td>\n",
              "      <td>0</td>\n",
              "      <td>0</td>\n",
              "      <td>1</td>\n",
              "      <td>0</td>\n",
              "      <td>0</td>\n",
              "    </tr>\n",
              "    <tr>\n",
              "      <th>34975</th>\n",
              "      <td>65000.0</td>\n",
              "      <td>NaN</td>\n",
              "      <td>1.0</td>\n",
              "      <td>8.83</td>\n",
              "      <td>NaN</td>\n",
              "      <td>664.0</td>\n",
              "      <td>660.0</td>\n",
              "      <td>10000.0</td>\n",
              "      <td>10000.0</td>\n",
              "      <td>1.0</td>\n",
              "      <td>325.69</td>\n",
              "      <td>10.64</td>\n",
              "      <td>539.0</td>\n",
              "      <td>535.0</td>\n",
              "      <td>10000.0</td>\n",
              "      <td>0</td>\n",
              "      <td>22.0</td>\n",
              "      <td>53.0</td>\n",
              "      <td>34.0</td>\n",
              "      <td>16.0</td>\n",
              "      <td>3.0</td>\n",
              "      <td>0</td>\n",
              "      <td>0</td>\n",
              "      <td>0</td>\n",
              "      <td>0</td>\n",
              "      <td>0</td>\n",
              "      <td>0</td>\n",
              "      <td>0</td>\n",
              "      <td>0</td>\n",
              "      <td>0</td>\n",
              "      <td>0</td>\n",
              "      <td>0</td>\n",
              "      <td>0</td>\n",
              "      <td>0</td>\n",
              "      <td>1</td>\n",
              "      <td>0</td>\n",
              "      <td>0</td>\n",
              "      <td>0</td>\n",
              "      <td>0</td>\n",
              "      <td>0</td>\n",
              "      <td>...</td>\n",
              "      <td>0</td>\n",
              "      <td>1</td>\n",
              "      <td>0</td>\n",
              "      <td>0</td>\n",
              "      <td>1</td>\n",
              "      <td>0</td>\n",
              "      <td>0</td>\n",
              "      <td>0</td>\n",
              "      <td>0</td>\n",
              "      <td>0</td>\n",
              "      <td>0</td>\n",
              "      <td>0</td>\n",
              "      <td>0</td>\n",
              "      <td>0</td>\n",
              "      <td>0</td>\n",
              "      <td>0</td>\n",
              "      <td>0</td>\n",
              "      <td>0</td>\n",
              "      <td>0</td>\n",
              "      <td>0</td>\n",
              "      <td>0</td>\n",
              "      <td>0</td>\n",
              "      <td>0</td>\n",
              "      <td>0</td>\n",
              "      <td>0</td>\n",
              "      <td>0</td>\n",
              "      <td>0</td>\n",
              "      <td>0</td>\n",
              "      <td>0</td>\n",
              "      <td>0</td>\n",
              "      <td>0</td>\n",
              "      <td>0</td>\n",
              "      <td>0</td>\n",
              "      <td>0</td>\n",
              "      <td>0</td>\n",
              "      <td>0</td>\n",
              "      <td>0</td>\n",
              "      <td>1</td>\n",
              "      <td>0</td>\n",
              "      <td>1</td>\n",
              "    </tr>\n",
              "    <tr>\n",
              "      <th>18245</th>\n",
              "      <td>43680.0</td>\n",
              "      <td>NaN</td>\n",
              "      <td>2.0</td>\n",
              "      <td>20.66</td>\n",
              "      <td>NaN</td>\n",
              "      <td>684.0</td>\n",
              "      <td>680.0</td>\n",
              "      <td>8875.0</td>\n",
              "      <td>8875.0</td>\n",
              "      <td>1.0</td>\n",
              "      <td>291.49</td>\n",
              "      <td>11.22</td>\n",
              "      <td>594.0</td>\n",
              "      <td>590.0</td>\n",
              "      <td>8875.0</td>\n",
              "      <td>0</td>\n",
              "      <td>14.0</td>\n",
              "      <td>NaN</td>\n",
              "      <td>NaN</td>\n",
              "      <td>14.0</td>\n",
              "      <td>0.0</td>\n",
              "      <td>0</td>\n",
              "      <td>0</td>\n",
              "      <td>0</td>\n",
              "      <td>0</td>\n",
              "      <td>0</td>\n",
              "      <td>0</td>\n",
              "      <td>0</td>\n",
              "      <td>0</td>\n",
              "      <td>0</td>\n",
              "      <td>0</td>\n",
              "      <td>1</td>\n",
              "      <td>0</td>\n",
              "      <td>0</td>\n",
              "      <td>0</td>\n",
              "      <td>0</td>\n",
              "      <td>0</td>\n",
              "      <td>0</td>\n",
              "      <td>0</td>\n",
              "      <td>0</td>\n",
              "      <td>...</td>\n",
              "      <td>0</td>\n",
              "      <td>1</td>\n",
              "      <td>0</td>\n",
              "      <td>0</td>\n",
              "      <td>0</td>\n",
              "      <td>0</td>\n",
              "      <td>0</td>\n",
              "      <td>0</td>\n",
              "      <td>0</td>\n",
              "      <td>0</td>\n",
              "      <td>1</td>\n",
              "      <td>0</td>\n",
              "      <td>0</td>\n",
              "      <td>0</td>\n",
              "      <td>0</td>\n",
              "      <td>0</td>\n",
              "      <td>0</td>\n",
              "      <td>0</td>\n",
              "      <td>0</td>\n",
              "      <td>0</td>\n",
              "      <td>0</td>\n",
              "      <td>0</td>\n",
              "      <td>0</td>\n",
              "      <td>0</td>\n",
              "      <td>0</td>\n",
              "      <td>0</td>\n",
              "      <td>0</td>\n",
              "      <td>0</td>\n",
              "      <td>0</td>\n",
              "      <td>0</td>\n",
              "      <td>0</td>\n",
              "      <td>0</td>\n",
              "      <td>0</td>\n",
              "      <td>0</td>\n",
              "      <td>0</td>\n",
              "      <td>0</td>\n",
              "      <td>0</td>\n",
              "      <td>1</td>\n",
              "      <td>0</td>\n",
              "      <td>0</td>\n",
              "    </tr>\n",
              "    <tr>\n",
              "      <th>20373</th>\n",
              "      <td>53000.0</td>\n",
              "      <td>NaN</td>\n",
              "      <td>1.0</td>\n",
              "      <td>38.99</td>\n",
              "      <td>NaN</td>\n",
              "      <td>699.0</td>\n",
              "      <td>695.0</td>\n",
              "      <td>15000.0</td>\n",
              "      <td>15000.0</td>\n",
              "      <td>1.0</td>\n",
              "      <td>510.27</td>\n",
              "      <td>13.67</td>\n",
              "      <td>664.0</td>\n",
              "      <td>660.0</td>\n",
              "      <td>15000.0</td>\n",
              "      <td>1</td>\n",
              "      <td>19.0</td>\n",
              "      <td>NaN</td>\n",
              "      <td>NaN</td>\n",
              "      <td>10.0</td>\n",
              "      <td>0.0</td>\n",
              "      <td>0</td>\n",
              "      <td>0</td>\n",
              "      <td>0</td>\n",
              "      <td>0</td>\n",
              "      <td>0</td>\n",
              "      <td>0</td>\n",
              "      <td>0</td>\n",
              "      <td>0</td>\n",
              "      <td>0</td>\n",
              "      <td>0</td>\n",
              "      <td>0</td>\n",
              "      <td>0</td>\n",
              "      <td>0</td>\n",
              "      <td>0</td>\n",
              "      <td>1</td>\n",
              "      <td>0</td>\n",
              "      <td>0</td>\n",
              "      <td>0</td>\n",
              "      <td>0</td>\n",
              "      <td>...</td>\n",
              "      <td>0</td>\n",
              "      <td>1</td>\n",
              "      <td>1</td>\n",
              "      <td>0</td>\n",
              "      <td>0</td>\n",
              "      <td>0</td>\n",
              "      <td>0</td>\n",
              "      <td>0</td>\n",
              "      <td>0</td>\n",
              "      <td>0</td>\n",
              "      <td>0</td>\n",
              "      <td>0</td>\n",
              "      <td>0</td>\n",
              "      <td>0</td>\n",
              "      <td>0</td>\n",
              "      <td>0</td>\n",
              "      <td>0</td>\n",
              "      <td>0</td>\n",
              "      <td>0</td>\n",
              "      <td>0</td>\n",
              "      <td>0</td>\n",
              "      <td>0</td>\n",
              "      <td>0</td>\n",
              "      <td>0</td>\n",
              "      <td>0</td>\n",
              "      <td>0</td>\n",
              "      <td>0</td>\n",
              "      <td>0</td>\n",
              "      <td>0</td>\n",
              "      <td>0</td>\n",
              "      <td>0</td>\n",
              "      <td>0</td>\n",
              "      <td>0</td>\n",
              "      <td>0</td>\n",
              "      <td>0</td>\n",
              "      <td>0</td>\n",
              "      <td>0</td>\n",
              "      <td>1</td>\n",
              "      <td>0</td>\n",
              "      <td>0</td>\n",
              "    </tr>\n",
              "    <tr>\n",
              "      <th>49652</th>\n",
              "      <td>45000.0</td>\n",
              "      <td>NaN</td>\n",
              "      <td>0.0</td>\n",
              "      <td>8.31</td>\n",
              "      <td>NaN</td>\n",
              "      <td>664.0</td>\n",
              "      <td>660.0</td>\n",
              "      <td>12000.0</td>\n",
              "      <td>12000.0</td>\n",
              "      <td>0.0</td>\n",
              "      <td>395.66</td>\n",
              "      <td>11.49</td>\n",
              "      <td>764.0</td>\n",
              "      <td>760.0</td>\n",
              "      <td>12000.0</td>\n",
              "      <td>1</td>\n",
              "      <td>44.0</td>\n",
              "      <td>45.0</td>\n",
              "      <td>13.0</td>\n",
              "      <td>8.0</td>\n",
              "      <td>1.0</td>\n",
              "      <td>0</td>\n",
              "      <td>0</td>\n",
              "      <td>0</td>\n",
              "      <td>0</td>\n",
              "      <td>0</td>\n",
              "      <td>0</td>\n",
              "      <td>0</td>\n",
              "      <td>0</td>\n",
              "      <td>0</td>\n",
              "      <td>0</td>\n",
              "      <td>0</td>\n",
              "      <td>0</td>\n",
              "      <td>0</td>\n",
              "      <td>0</td>\n",
              "      <td>0</td>\n",
              "      <td>0</td>\n",
              "      <td>0</td>\n",
              "      <td>0</td>\n",
              "      <td>0</td>\n",
              "      <td>...</td>\n",
              "      <td>0</td>\n",
              "      <td>1</td>\n",
              "      <td>0</td>\n",
              "      <td>0</td>\n",
              "      <td>0</td>\n",
              "      <td>0</td>\n",
              "      <td>0</td>\n",
              "      <td>0</td>\n",
              "      <td>0</td>\n",
              "      <td>0</td>\n",
              "      <td>1</td>\n",
              "      <td>0</td>\n",
              "      <td>0</td>\n",
              "      <td>0</td>\n",
              "      <td>0</td>\n",
              "      <td>0</td>\n",
              "      <td>0</td>\n",
              "      <td>0</td>\n",
              "      <td>0</td>\n",
              "      <td>0</td>\n",
              "      <td>0</td>\n",
              "      <td>0</td>\n",
              "      <td>0</td>\n",
              "      <td>0</td>\n",
              "      <td>0</td>\n",
              "      <td>0</td>\n",
              "      <td>0</td>\n",
              "      <td>0</td>\n",
              "      <td>0</td>\n",
              "      <td>0</td>\n",
              "      <td>0</td>\n",
              "      <td>0</td>\n",
              "      <td>0</td>\n",
              "      <td>0</td>\n",
              "      <td>0</td>\n",
              "      <td>0</td>\n",
              "      <td>0</td>\n",
              "      <td>1</td>\n",
              "      <td>0</td>\n",
              "      <td>0</td>\n",
              "    </tr>\n",
              "  </tbody>\n",
              "</table>\n",
              "<p>5 rows × 147 columns</p>\n",
              "</div>"
            ],
            "text/plain": [
              "       continuous_annual_inc  ...  discrete_is_loan_10000\n",
              "47569                23000.0  ...                       0\n",
              "34975                65000.0  ...                       1\n",
              "18245                43680.0  ...                       0\n",
              "20373                53000.0  ...                       0\n",
              "49652                45000.0  ...                       0\n",
              "\n",
              "[5 rows x 147 columns]"
            ]
          },
          "metadata": {},
          "execution_count": 51
        }
      ]
    },
    {
      "cell_type": "code",
      "metadata": {
        "id": "fX23LSX6kExZ"
      },
      "source": [
        "train_new.to_csv(\"train_new.csv\", index=False)"
      ],
      "execution_count": null,
      "outputs": []
    },
    {
      "cell_type": "code",
      "metadata": {
        "colab": {
          "base_uri": "https://localhost:8080/"
        },
        "id": "AcVwSSC1oEIR",
        "outputId": "90f9b8b4-78a8-4a5e-ec6b-42acf70a091b"
      },
      "source": [
        "len(train_new.columns.to_list())"
      ],
      "execution_count": null,
      "outputs": [
        {
          "output_type": "execute_result",
          "data": {
            "text/plain": [
              "147"
            ]
          },
          "metadata": {},
          "execution_count": 53
        }
      ]
    },
    {
      "cell_type": "code",
      "metadata": {
        "id": "wQg1d-1Kkk_7"
      },
      "source": [
        "# baseline开始了\n",
        "import io\n",
        "import multiprocessing\n",
        "from contextlib import redirect_stdout\n",
        "from copy import deepcopy\n",
        "from dataclasses import dataclass, asdict\n",
        "import hyperopt.pyll\n",
        "from hyperopt import fmin, tpe, hp\n",
        "import numpy as np\n",
        "import lightgbm as lgb\n",
        "from sklearn.metrics import accuracy_score\n",
        "from sklearn.metrics import f1_score\n",
        "from sklearn.metrics import precision_score\n",
        "from sklearn.metrics import recall_score\n",
        "from sklearn.metrics import roc_auc_score\n",
        "import torch\n",
        "\n",
        "import copy\n",
        "cpu_count = 4\n",
        "use_gpu = False\n",
        "@dataclass\n",
        "class LGBOpt:\n",
        "    num_threads: any = hp.choice('num_threads', [cpu_count])\n",
        "    num_leaves: any = hp.choice('num_leaves', [64])\n",
        "    metric: any = hp.choice('metric', ['binary_error'])\n",
        "    num_round: any = hp.choice('num_rounds', [1000])\n",
        "    objective: any = hp.choice('objective', ['binary'])\n",
        "    learning_rate: any = hp.uniform('learning_rate', 0.01, 0.1)\n",
        "    feature_fraction: any = hp.uniform('feature_fraction', 0.5, 1.0)\n",
        "    bagging_fraction: any = hp.uniform('bagging_fraction', 0.8, 1.0)\n",
        "    device_type: any = hp.choice('device_tpye', ['gpu']) if use_gpu else hp.choice('device_type',\n",
        "                                                                                   ['cpu'])\n",
        "    boosting: any = hp.choice('boosting', ['gbdt', 'dart', 'goss'])\n",
        "    extra_trees: any = hp.choice('extra_tress', [False, True])\n",
        "    drop_rate: any = hp.uniform('drop_rate', 0, 0.2)\n",
        "    uniform_drop: any = hp.choice('uniform_drop', [True, False])\n",
        "    lambda_l1: any = hp.uniform('lambda_l1', 0, 10)  # TODO: Check range\n",
        "    lambda_l2: any = hp.uniform('lambda_l2', 0, 10)  # TODO: Check range\n",
        "    min_gain_to_split: any = hp.uniform('min_gain_to_split', 0, 1)  # TODO: Check range\n",
        "    min_data_in_bin = hp.choice('min_data_in_bin', [3, 5, 10, 15, 20, 50])\n",
        "\n",
        "    @staticmethod\n",
        "    def get_common_params():\n",
        "        return {'num_thread': 4, 'num_leaves': 12, 'metric': 'binary', 'objective': 'binary',\n",
        "                'num_round': 1000, 'learning_rate': 0.01, 'feature_fraction': 0.8, 'bagging_fraction': 0.8}\n",
        "    "
      ],
      "execution_count": 6,
      "outputs": []
    },
    {
      "cell_type": "code",
      "metadata": {
        "id": "evKqN5TNkydk"
      },
      "source": [
        "class FitterBase(object):\n",
        "    def __init__(self, label, metric, max_eval=100, opt=None):\n",
        "        self.label = label\n",
        "        self.metric = metric\n",
        "        self.opt_params = dict()\n",
        "        self.max_eval = max_eval\n",
        "        self.opt = opt\n",
        "\n",
        "    def get_loss(self, y, y_pred):\n",
        "        if self.metric == 'error':\n",
        "            return 1 - accuracy_score(y, y_pred)\n",
        "        elif self.metric == 'precision':\n",
        "            return 1 - precision_score(y, y_pred)\n",
        "        elif self.metric == 'recall':\n",
        "            return 1 - recall_score(y, y_pred)\n",
        "        elif self.metric == 'macro_f1':\n",
        "            return 1 - f1_score(y, y_pred, average='macro')\n",
        "        elif self.metric == 'micro_f1':\n",
        "            return 1 - f1_score(y, y_pred, average='micro')\n",
        "        elif self.metric == 'auc':  # TODO: Add a warning checking if y_predict is all [0, 1], it should be probability\n",
        "            return 1 - roc_auc_score(y, y_pred)\n",
        "        else:\n",
        "            raise Exception(\"Not implemented yet.\")"
      ],
      "execution_count": 7,
      "outputs": []
    },
    {
      "cell_type": "code",
      "metadata": {
        "id": "yQIAu7JOk07K"
      },
      "source": [
        "class LGBFitter(FitterBase):\n",
        "    def __init__(self, label='label', metric='error', opt: LGBOpt = None, max_eval=100):\n",
        "        super(LGBFitter, self).__init__(label, metric, max_eval)\n",
        "        if opt is not None:\n",
        "            self.opt = opt\n",
        "        else:\n",
        "            self.opt = LGBOpt()\n",
        "        self.best_round = None\n",
        "        self.clf = None\n",
        "\n",
        "    def train(self, train_df, eval_df, params=None, use_best_eval=True):\n",
        "        self.best_round = None\n",
        "        dtrain = lgb.Dataset(train_df.drop(columns=[self.label]), train_df[self.label])\n",
        "        deval = lgb.Dataset(eval_df.drop(columns=[self.label]), eval_df[self.label])\n",
        "        evallist = [dtrain, deval]\n",
        "        if params is None:\n",
        "            use_params = deepcopy(self.opt_params)\n",
        "        else:\n",
        "            use_params = deepcopy(params)\n",
        "\n",
        "        num_round = use_params.pop('num_round')\n",
        "        if use_best_eval:\n",
        "            with io.StringIO() as buf, redirect_stdout(buf):\n",
        "                self.clf = lgb.train(use_params, dtrain, num_round, valid_sets=evallist)\n",
        "                output = buf.getvalue().split(\"\\n\")\n",
        "            min_error = np.inf\n",
        "            min_index = 0\n",
        "            for idx in range(len(output) - 1):\n",
        "                if len(output[idx].split(\"\\t\")) == 3:\n",
        "                    temp = float(output[idx].split(\"\\t\")[2].split(\":\")[1])\n",
        "                    if min_error > temp:\n",
        "                        min_error = temp\n",
        "                        min_index = int(output[idx].split(\"\\t\")[0][1:-1])\n",
        "            print(\"The minimum is attained in round %d\" % (min_index + 1))\n",
        "            self.best_round = min_index + 1\n",
        "            return output\n",
        "        else:\n",
        "            with io.StringIO() as buf, redirect_stdout(buf):\n",
        "                self.clf = lgb.train(use_params, dtrain, num_round, valid_sets=evallist)\n",
        "                output = buf.getvalue().split(\"\\n\")\n",
        "            self.best_round = num_round\n",
        "            return output\n",
        "\n",
        "    def search(self, train_df, eval_df, use_best_eval=True):\n",
        "        self.opt_params = dict()\n",
        "\n",
        "        def train_impl(params):\n",
        "            self.train(train_df, eval_df, params, use_best_eval)\n",
        "            if self.metric == 'auc':\n",
        "                y_pred = self.clf.predict(eval_df.drop(columns=[self.label]), num_iteration=self.best_round)\n",
        "            else:\n",
        "                y_pred = (self.clf.predict(eval_df.drop(columns=[self.label]),\n",
        "                                           num_iteration=self.best_round) > 0.5).astype(int)\n",
        "            return self.get_loss(eval_df[self.label], y_pred)\n",
        "\n",
        "        self.opt_params = fmin(train_impl, asdict(self.opt), algo=tpe.suggest, max_evals=self.max_eval)\n",
        "\n",
        "    def search_k_fold(self, k_fold, data, use_best_eval=True):\n",
        "        self.opt_params = dict()\n",
        "\n",
        "        def train_impl_nfold(params):\n",
        "            loss = list()\n",
        "            for train_id, eval_id in k_fold.split(data):\n",
        "                train_df = data.loc[train_id]\n",
        "                eval_df = data.loc[eval_id]\n",
        "                self.train(train_df, eval_df, params, use_best_eval)\n",
        "                if self.metric == 'auc':\n",
        "                    y_pred = self.clf.predict(eval_df.drop(columns=[self.label]), num_iteration=self.best_round)\n",
        "                else:\n",
        "                    y_pred = (self.clf.predict(eval_df.drop(columns=[self.label]),\n",
        "                                               num_iteration=self.best_round) > 0.5).astype(int)\n",
        "                loss.append(self.get_loss(eval_df[self.label], y_pred))\n",
        "            return np.mean(loss)\n",
        "\n",
        "        self.opt_params = fmin(train_impl_nfold, asdict(self.opt), algo=tpe.suggest, max_evals=self.max_eval)\n",
        "\n",
        "    def train_k_fold(self, k_fold, train_data, test_data, params=None, drop_test_y=True, use_best_eval=True):\n",
        "        acc_result = list()\n",
        "        train_pred = np.empty(train_data.shape[0])\n",
        "        test_pred = np.empty(test_data.shape[0])\n",
        "        if drop_test_y:\n",
        "            dtest = test_data.drop(columns=self.label)\n",
        "        else:\n",
        "            dtest = test_data\n",
        "\n",
        "        models = list()\n",
        "        for train_id, eval_id in k_fold.split(train_data):\n",
        "            train_df = train_data.loc[train_id]\n",
        "            eval_df = train_data.loc[eval_id]\n",
        "            self.train(train_df, eval_df, params, use_best_eval)\n",
        "            models.append(copy.deepcopy(self.clf))\n",
        "            train_pred[eval_id] = self.clf.predict(eval_df.drop(columns=self.label), num_iteration=self.best_round)\n",
        "            if self.metric == 'auc':\n",
        "                y_pred = self.clf.predict(eval_df.drop(columns=[self.label]), num_iteration=self.best_round)\n",
        "            else:\n",
        "                y_pred = (self.clf.predict(eval_df.drop(columns=[self.label]),\n",
        "                                           num_iteration=self.best_round) > 0.5).astype(int)\n",
        "            acc_result.append(self.get_loss(eval_df[self.label], y_pred))\n",
        "            test_pred += self.clf.predict(dtest, num_iteration=self.best_round)\n",
        "        test_pred /= k_fold.n_splits\n",
        "        return train_pred, test_pred, acc_result, models"
      ],
      "execution_count": 8,
      "outputs": []
    },
    {
      "cell_type": "code",
      "metadata": {
        "id": "RE4cY9D2k4ok"
      },
      "source": [
        "fitter = LGBFitter(label='loan_status')"
      ],
      "execution_count": 9,
      "outputs": []
    },
    {
      "cell_type": "code",
      "metadata": {
        "colab": {
          "base_uri": "https://localhost:8080/"
        },
        "id": "NEOt-I5MP1uC",
        "outputId": "8cc5fd33-32db-4ed0-ea40-c4b7d05e403e"
      },
      "source": [
        "# 重新读取，前面代码多加了一列\n",
        "import pandas as pd\n",
        "train = pd.read_csv(path+\"/train_final.csv\", engine='python')\n",
        "test = pd.read_csv(path+\"/test_final.csv\", engine='python')\n",
        "train_new = train.sample(frac=1)\n",
        "train_new.to_csv(\"train_new.csv\", index=False)\n",
        "# 正确的应该是146\n",
        "len(train_new.columns.to_list())"
      ],
      "execution_count": 165,
      "outputs": [
        {
          "output_type": "execute_result",
          "data": {
            "text/plain": [
              "146"
            ]
          },
          "metadata": {},
          "execution_count": 165
        }
      ]
    },
    {
      "cell_type": "code",
      "metadata": {
        "colab": {
          "base_uri": "https://localhost:8080/"
        },
        "id": "eEsGQ0nmk7ye",
        "outputId": "df35d1dd-1d03-49cb-b14b-f2e1c81ca303"
      },
      "source": [
        "from sklearn.model_selection import KFold\n",
        "kfold = KFold(n_splits=5)\n",
        "for num_leaves in [6]:\n",
        "    params = {'num_thread': 4, 'num_leaves': num_leaves, 'metric': 'binary', 'objective': 'binary','\n",
        "                'num_round': 4000, 'learning_rate': 0.0075, 'feature_fraction': 0.8,\n",
        "           'bagging_fraction': 0.8}\n",
        "    # 这里用train_new,用train一般会高，所以要用shuffle\n",
        "    train_pred, test_pred, error_rate, models = fitter.train_k_fold(kfold, train_new, test, params = params)\n",
        "print(params)\n",
        "print('各模型误差',error_rate)\n",
        "print('平均误差',np.mean(error_rate))\n",
        "# 查看测试集的结果\n",
        "print('测试集误差',1 - accuracy_score(test['loan_status'], (test_pred > 0.5).astype(np.int64)))\n"
      ],
      "execution_count": 166,
      "outputs": [
        {
          "output_type": "stream",
          "text": [
            "The minimum is attained in round 3125\n",
            "The minimum is attained in round 1502\n",
            "The minimum is attained in round 2802\n",
            "The minimum is attained in round 3100\n",
            "The minimum is attained in round 2139\n",
            "{'num_thread': 4, 'num_leaves': 6, 'metric': 'binary', 'objective': 'binary', 'boosting': 'goss', 'num_round': 4000, 'learning_rate': 0.0075, 'feature_fraction': 0.8, 'bagging_fraction': 0.8}\n",
            "各模型误差 [0.07189999999999996, 0.08009999999999995, 0.0826, 0.08330000000000004, 0.07989999999999997]\n",
            "平均误差 0.07955999999999999\n",
            "测试集误差 0.08204\n"
          ],
          "name": "stdout"
        }
      ]
    },
    {
      "cell_type": "code",
      "metadata": {
        "id": "eojUbAFhhdRd"
      },
      "source": [
        "pip install thermoencoder"
      ],
      "execution_count": null,
      "outputs": []
    },
    {
      "cell_type": "code",
      "metadata": {
        "id": "V9vooc4Lhk9S"
      },
      "source": [
        "pip install category_encoders"
      ],
      "execution_count": null,
      "outputs": []
    },
    {
      "cell_type": "code",
      "metadata": {
        "id": "HnzveFPO5GWK"
      },
      "source": [
        "!pip install shap"
      ],
      "execution_count": null,
      "outputs": []
    },
    {
      "cell_type": "code",
      "metadata": {
        "id": "KjY7Ado-5hQC"
      },
      "source": [
        "import shap\n",
        "explainer = shap.TreeExplainer(models[0])\n",
        "shap_values = explainer.shap_values(train_add.drop(columns='loan_status')) # This will take some time"
      ],
      "execution_count": null,
      "outputs": []
    },
    {
      "cell_type": "code",
      "metadata": {
        "id": "xLjPH0rT5k1b"
      },
      "source": [
        "x = train_add.drop(columns='loan_status')\n",
        "shap.force_plot(explainer.expected_value[1], shap_values[1][0,:], x.iloc[0,:])"
      ],
      "execution_count": null,
      "outputs": []
    },
    {
      "cell_type": "code",
      "metadata": {
        "id": "KyGMRjQWpIjG"
      },
      "source": [
        "# 重新读取，前面代码多加了一列\n",
        "import pandas as pd\n",
        "train = pd.read_csv(path+\"/train_final.csv\", engine='python')\n",
        "test = pd.read_csv(path+\"/test_final.csv\", engine='python')\n",
        "train_new = train.sample(frac=1)\n",
        "train_new.to_csv(\"train_new.csv\", index=False)\n",
        "# 正确的应该是146\n",
        "len(train_new.columns.to_list())\n",
        "# 下面开始加变量\n",
        "# 合并（把train和test一起加一列，一起做了，不然要做2次，最后拆开就好了）\n",
        "TRAIN_INDEX = train_new.shape[0]\n",
        "TEST_INDEX = test.shape[0] + TRAIN_INDEX\n"
      ],
      "execution_count": 167,
      "outputs": []
    },
    {
      "cell_type": "code",
      "metadata": {
        "id": "Y7fokfshqOdz"
      },
      "source": [
        "data = pd.concat([train_new, test], axis=0)"
      ],
      "execution_count": 168,
      "outputs": []
    },
    {
      "cell_type": "code",
      "metadata": {
        "colab": {
          "base_uri": "https://localhost:8080/"
        },
        "id": "nYWNkQbGRZbj",
        "outputId": "17a800d4-7406-4d39-866a-cee322242c02"
      },
      "source": [
        "data.shape"
      ],
      "execution_count": 169,
      "outputs": [
        {
          "output_type": "execute_result",
          "data": {
            "text/plain": [
              "(100000, 146)"
            ]
          },
          "metadata": {},
          "execution_count": 169
        }
      ]
    },
    {
      "cell_type": "code",
      "metadata": {
        "id": "AYvl9BlRe3Wu"
      },
      "source": [
        "data['continuous_last_fico_range_high'].describe(percentiles=np.arange(0, 1, 0.05))"
      ],
      "execution_count": null,
      "outputs": []
    },
    {
      "cell_type": "code",
      "metadata": {
        "id": "_TBUp2Y4qN5J"
      },
      "source": [
        "# 这个变量其实是没用的，因为分箱了,lightgbm本来就是分箱的，所以加一个10000的参数是无用。\n",
        "# data['discrete_is_loan_10000'] = data['continuous_last_fico_range_high'].mean()"
      ],
      "execution_count": 86,
      "outputs": []
    },
    {
      "cell_type": "code",
      "metadata": {
        "colab": {
          "base_uri": "https://localhost:8080/"
        },
        "id": "wdp9GScOnusR",
        "outputId": "582b7464-8fb9-43a3-d208-96d14ba7c9cd"
      },
      "source": [
        "# We can find the most important variables in the following ways.\n",
        "features = train_new.drop(columns='loan_status').columns.to_list()\n",
        "importance = models[0].feature_importance(importance_type = 'gain')\n",
        "# print(importance)\n",
        "feautre_importance = sorted(zip(features, importance), key = lambda x : x[1], reverse=True)\n",
        "print(feautre_importance)"
      ],
      "execution_count": 170,
      "outputs": [
        {
          "output_type": "stream",
          "text": [
            "[('continuous_last_fico_range_high', 1401772.897958517), ('continuous_last_fico_range_low', 217284.48886084557), ('discrete_term_1_one_hot', 59170.122960567474), ('continuous_dti', 37164.984292030334), ('continuous_funded_amnt', 31120.287940979004), ('continuous_installment', 29918.86306166649), ('continuous_fico_range_high', 22163.562014102936), ('continuous_annual_inc', 21347.18479537964), ('continuous_mths_since_last_delinq', 21004.87567138672), ('continuous_int_rate', 20945.384246110916), ('continuous_open_acc', 18462.52542090416), ('continuous_funded_amnt_inv', 14237.623793125153), ('discrete_emp_length_12_one_hot', 13679.375308513641), ('continuous_mths_since_last_major_derog', 11516.99791932106), ('discrete_term_2_one_hot', 10980.366670370102), ('continuous_mths_since_last_record', 9893.039208650589), ('continuous_fico_range_low', 4566.433777093887), ('continuous_inq_last_6mths', 4434.754617929459), ('discrete_home_ownership_1_one_hot', 2716.9062983989716), ('discrete_purpose_1_one_hot', 2637.012385368347), ('continuous_delinq_2yrs', 2603.3117151260376), ('discrete_grade_2_one_hot', 2585.5761983394623), ('continuous_loan_amnt', 2503.9003353118896), ('discrete_purpose_5_one_hot', 2329.9946794509888), ('discrete_emp_length_1_one_hot', 2310.264739751816), ('discrete_addr_state_3_one_hot', 2096.9900918006897), ('discrete_emp_length_2_one_hot', 1951.0082516670227), ('discrete_sub_grade_19_one_hot', 1875.3275570869446), ('discrete_purpose_3_one_hot', 1571.6725976467133), ('discrete_sub_grade_3_one_hot', 1564.4305329322815), ('discrete_addr_state_37_one_hot', 1532.9462299346924), ('discrete_sub_grade_7_one_hot', 1425.2224607467651), ('discrete_home_ownership_2_one_hot', 1412.9840836524963), ('discrete_sub_grade_25_one_hot', 1398.511516571045), ('discrete_emp_length_10_one_hot', 1394.3617506027222), ('discrete_addr_state_4_one_hot', 1287.4993832111359), ('discrete_addr_state_14_one_hot', 1248.6704638004303), ('discrete_sub_grade_22_one_hot', 1232.5484323501587), ('discrete_addr_state_11_one_hot', 1172.6203763484955), ('discrete_addr_state_10_one_hot', 1133.9238290786743), ('discrete_addr_state_16_one_hot', 1122.3916838169098), ('discrete_emp_length_8_one_hot', 1107.5664434432983), ('discrete_addr_state_15_one_hot', 1102.7359511852264), ('discrete_addr_state_23_one_hot', 1062.2196054458618), ('discrete_addr_state_25_one_hot', 1052.0248277187347), ('discrete_grade_1_one_hot', 1034.7293910980225), ('discrete_purpose_10_one_hot', 967.7924094200134), ('discrete_sub_grade_8_one_hot', 960.0845532417297), ('discrete_addr_state_9_one_hot', 956.6038196086884), ('discrete_emp_length_9_one_hot', 916.911997795105), ('discrete_addr_state_43_one_hot', 916.8724238872528), ('discrete_purpose_9_one_hot', 874.0755515098572), ('discrete_addr_state_19_one_hot', 863.6454515457153), ('discrete_sub_grade_10_one_hot', 841.4577605724335), ('discrete_emp_length_6_one_hot', 787.6720716953278), ('discrete_addr_state_46_one_hot', 784.3194179534912), ('discrete_addr_state_33_one_hot', 765.8265800476074), ('discrete_purpose_6_one_hot', 765.6244120597839), ('discrete_grade_4_one_hot', 762.4203267097473), ('discrete_sub_grade_18_one_hot', 744.5817008018494), ('discrete_sub_grade_24_one_hot', 728.6911406517029), ('discrete_addr_state_22_one_hot', 728.4642889499664), ('discrete_grade_5_one_hot', 716.9737505912781), ('discrete_emp_length_11_one_hot', 705.7048001289368), ('discrete_addr_state_8_one_hot', 671.4858605861664), ('discrete_emp_length_3_one_hot', 612.6660289764404), ('discrete_addr_state_6_one_hot', 610.295845746994), ('discrete_emp_length_7_one_hot', 608.8191375732422), ('discrete_sub_grade_23_one_hot', 604.2387390136719), ('discrete_home_ownership_3_one_hot', 602.8952808380127), ('discrete_sub_grade_6_one_hot', 598.6649646759033), ('discrete_grade_6_one_hot', 592.8105907440186), ('discrete_grade_3_one_hot', 580.0036542415619), ('discrete_sub_grade_9_one_hot', 571.7686686515808), ('discrete_addr_state_35_one_hot', 561.3930997848511), ('discrete_addr_state_1_one_hot', 555.3249306678772), ('discrete_addr_state_45_one_hot', 533.5267715454102), ('discrete_addr_state_20_one_hot', 532.6974620819092), ('discrete_addr_state_12_one_hot', 519.0892977714539), ('discrete_purpose_4_one_hot', 505.5941433906555), ('discrete_sub_grade_14_one_hot', 497.89022874832153), ('continuous_dti_joint', 490.912748336792), ('discrete_sub_grade_5_one_hot', 479.61406803131104), ('discrete_addr_state_5_one_hot', 476.3522744178772), ('discrete_sub_grade_1_one_hot', 441.68833351135254), ('discrete_addr_state_27_one_hot', 416.6456983089447), ('continuous_pub_rec', 413.9070279598236), ('discrete_addr_state_31_one_hot', 402.4948217868805), ('discrete_sub_grade_11_one_hot', 359.62771821022034), ('discrete_addr_state_44_one_hot', 355.3494212627411), ('discrete_sub_grade_20_one_hot', 353.78104162216187), ('discrete_emp_length_4_one_hot', 353.0454468727112), ('discrete_sub_grade_4_one_hot', 338.4688882827759), ('discrete_sub_grade_13_one_hot', 337.9492406845093), ('discrete_addr_state_18_one_hot', 336.365092754364), ('discrete_addr_state_24_one_hot', 319.08786058425903), ('discrete_addr_state_17_one_hot', 314.77266359329224), ('discrete_addr_state_38_one_hot', 300.78037881851196), ('discrete_sub_grade_2_one_hot', 288.63999223709106), ('discrete_sub_grade_12_one_hot', 244.34282207489014), ('discrete_sub_grade_29_one_hot', 240.98685026168823), ('discrete_sub_grade_26_one_hot', 214.18956899642944), ('discrete_addr_state_40_one_hot', 208.0066602230072), ('discrete_sub_grade_15_one_hot', 190.0899167060852), ('discrete_addr_state_39_one_hot', 179.67516136169434), ('discrete_addr_state_32_one_hot', 174.79610919952393), ('discrete_addr_state_13_one_hot', 169.58243918418884), ('discrete_purpose_11_one_hot', 165.23836016654968), ('discrete_emp_length_5_one_hot', 159.0598292350769), ('discrete_addr_state_29_one_hot', 135.3632791042328), ('discrete_sub_grade_28_one_hot', 127.45404934883118), ('discrete_addr_state_34_one_hot', 121.57878947257996), ('discrete_addr_state_21_one_hot', 108.95951008796692), ('discrete_purpose_2_one_hot', 107.94601917266846), ('discrete_sub_grade_21_one_hot', 102.52780866622925), ('discrete_addr_state_36_one_hot', 94.8259105682373), ('continuous_annual_inc_joint', 91.45015120506287), ('discrete_sub_grade_16_one_hot', 74.36467862129211), ('discrete_addr_state_7_one_hot', 59.03689932823181), ('discrete_purpose_7_one_hot', 53.36324071884155), ('discrete_sub_grade_17_one_hot', 20.567769765853882), ('discrete_sub_grade_32_one_hot', 19.247260093688965), ('discrete_addr_state_41_one_hot', 16.3164701461792), ('discrete_addr_state_28_one_hot', 8.941280364990234), ('discrete_addr_state_49_one_hot', 7.274810075759888), ('discrete_purpose_8_one_hot', 7.157989978790283), ('discrete_sub_grade_34_one_hot', 4.489339828491211), ('discrete_addr_state_47_one_hot', 3.6876800060272217), ('discrete_addr_state_2_one_hot', 0.0), ('discrete_addr_state_26_one_hot', 0.0), ('discrete_addr_state_30_one_hot', 0.0), ('discrete_addr_state_42_one_hot', 0.0), ('discrete_addr_state_48_one_hot', 0.0), ('discrete_application_type_1_one_hot', 0.0), ('discrete_application_type_2_one_hot', 0.0), ('discrete_grade_7_one_hot', 0.0), ('discrete_home_ownership_4_one_hot', 0.0), ('discrete_policy_code_1_one_hot', 0.0), ('discrete_purpose_12_one_hot', 0.0), ('discrete_pymnt_plan_1_one_hot', 0.0), ('discrete_sub_grade_27_one_hot', 0.0), ('discrete_sub_grade_30_one_hot', 0.0), ('discrete_sub_grade_31_one_hot', 0.0), ('discrete_sub_grade_33_one_hot', 0.0), ('discrete_sub_grade_35_one_hot', 0.0)]\n"
          ],
          "name": "stdout"
        }
      ]
    },
    {
      "cell_type": "code",
      "metadata": {
        "colab": {
          "base_uri": "https://localhost:8080/"
        },
        "id": "Lz1kS9iGoJq7",
        "outputId": "83c35766-6a55-48d6-956c-901d90f9b055"
      },
      "source": [
        "print(data['continuous_last_fico_range_high'])"
      ],
      "execution_count": 171,
      "outputs": [
        {
          "output_type": "stream",
          "text": [
            "4799     769.0\n",
            "12233    539.0\n",
            "10924    764.0\n",
            "46633    769.0\n",
            "276      579.0\n",
            "         ...  \n",
            "49995    734.0\n",
            "49996    524.0\n",
            "49997    669.0\n",
            "49998    719.0\n",
            "49999    719.0\n",
            "Name: continuous_last_fico_range_high, Length: 100000, dtype: float64\n"
          ],
          "name": "stdout"
        }
      ]
    },
    {
      "cell_type": "code",
      "metadata": {
        "colab": {
          "base_uri": "https://localhost:8080/"
        },
        "id": "40X_g69peKz4",
        "outputId": "fd68ee2b-1308-493a-8671-2d655968caf0"
      },
      "source": [
        "temp = data['continuous_last_fico_range_high'].value_counts().to_dict()\n",
        "print(temp)"
      ],
      "execution_count": 275,
      "outputs": [
        {
          "output_type": "stream",
          "text": [
            "{694.0: 3133, 704.0: 3105, 719.0: 3092, 724.0: 3086, 709.0: 3080, 689.0: 3033, 699.0: 3017, 684.0: 3006, 714.0: 2999, 734.0: 2681, 499.0: 2656, 729.0: 2653, 679.0: 2612, 674.0: 2437, 739.0: 2268, 669.0: 2231, 744.0: 2221, 664.0: 2024, 754.0: 1879, 749.0: 1821, 659.0: 1699, 759.0: 1692, 654.0: 1565, 769.0: 1517, 764.0: 1473, 649.0: 1347, 779.0: 1346, 644.0: 1293, 774.0: 1270, 784.0: 1204, 634.0: 1179, 554.0: 1086, 639.0: 1086, 789.0: 1079, 574.0: 1055, 564.0: 1052, 544.0: 1043, 794.0: 1038, 559.0: 1037, 584.0: 1025, 579.0: 1014, 624.0: 1014, 569.0: 1001, 614.0: 974, 539.0: 956, 534.0: 935, 549.0: 931, 629.0: 921, 594.0: 917, 609.0: 916, 604.0: 915, 599.0: 906, 799.0: 904, 589.0: 883, 619.0: 866, 804.0: 840, 524.0: 821, 529.0: 801, 809.0: 720, 519.0: 715, 514.0: 673, 509.0: 604, 814.0: 590, 504.0: 562, 819.0: 542, 824.0: 340, 829.0: 272, 834.0: 179, 839.0: 87, 844.0: 52, 850.0: 23, 0.0: 6}\n"
          ],
          "name": "stdout"
        }
      ]
    },
    {
      "cell_type": "code",
      "metadata": {
        "id": "7RrIPnmGeQ9S"
      },
      "source": [
        "data['continuous_last_fico_range_high_couts'] = data['continuous_last_fico_range_high'].map(temp)"
      ],
      "execution_count": 276,
      "outputs": []
    },
    {
      "cell_type": "code",
      "metadata": {
        "colab": {
          "base_uri": "https://localhost:8080/"
        },
        "id": "spVUsHV4eTuN",
        "outputId": "b6f8dc75-68a8-42dc-be4a-6f6efbbb59c5"
      },
      "source": [
        "data.columns.to_list()"
      ],
      "execution_count": 277,
      "outputs": [
        {
          "output_type": "execute_result",
          "data": {
            "text/plain": [
              "['continuous_annual_inc',\n",
              " 'continuous_annual_inc_joint',\n",
              " 'continuous_delinq_2yrs',\n",
              " 'continuous_dti',\n",
              " 'continuous_dti_joint',\n",
              " 'continuous_fico_range_high',\n",
              " 'continuous_fico_range_low',\n",
              " 'continuous_funded_amnt',\n",
              " 'continuous_funded_amnt_inv',\n",
              " 'continuous_inq_last_6mths',\n",
              " 'continuous_installment',\n",
              " 'continuous_int_rate',\n",
              " 'continuous_last_fico_range_high',\n",
              " 'continuous_last_fico_range_low',\n",
              " 'continuous_loan_amnt',\n",
              " 'loan_status',\n",
              " 'continuous_mths_since_last_delinq',\n",
              " 'continuous_mths_since_last_major_derog',\n",
              " 'continuous_mths_since_last_record',\n",
              " 'continuous_open_acc',\n",
              " 'continuous_pub_rec',\n",
              " 'discrete_addr_state_1_one_hot',\n",
              " 'discrete_addr_state_2_one_hot',\n",
              " 'discrete_addr_state_3_one_hot',\n",
              " 'discrete_addr_state_4_one_hot',\n",
              " 'discrete_addr_state_5_one_hot',\n",
              " 'discrete_addr_state_6_one_hot',\n",
              " 'discrete_addr_state_7_one_hot',\n",
              " 'discrete_addr_state_8_one_hot',\n",
              " 'discrete_addr_state_9_one_hot',\n",
              " 'discrete_addr_state_10_one_hot',\n",
              " 'discrete_addr_state_11_one_hot',\n",
              " 'discrete_addr_state_12_one_hot',\n",
              " 'discrete_addr_state_13_one_hot',\n",
              " 'discrete_addr_state_14_one_hot',\n",
              " 'discrete_addr_state_15_one_hot',\n",
              " 'discrete_addr_state_16_one_hot',\n",
              " 'discrete_addr_state_17_one_hot',\n",
              " 'discrete_addr_state_18_one_hot',\n",
              " 'discrete_addr_state_19_one_hot',\n",
              " 'discrete_addr_state_20_one_hot',\n",
              " 'discrete_addr_state_21_one_hot',\n",
              " 'discrete_addr_state_22_one_hot',\n",
              " 'discrete_addr_state_23_one_hot',\n",
              " 'discrete_addr_state_24_one_hot',\n",
              " 'discrete_addr_state_25_one_hot',\n",
              " 'discrete_addr_state_26_one_hot',\n",
              " 'discrete_addr_state_27_one_hot',\n",
              " 'discrete_addr_state_28_one_hot',\n",
              " 'discrete_addr_state_29_one_hot',\n",
              " 'discrete_addr_state_30_one_hot',\n",
              " 'discrete_addr_state_31_one_hot',\n",
              " 'discrete_addr_state_32_one_hot',\n",
              " 'discrete_addr_state_33_one_hot',\n",
              " 'discrete_addr_state_34_one_hot',\n",
              " 'discrete_addr_state_35_one_hot',\n",
              " 'discrete_addr_state_36_one_hot',\n",
              " 'discrete_addr_state_37_one_hot',\n",
              " 'discrete_addr_state_38_one_hot',\n",
              " 'discrete_addr_state_39_one_hot',\n",
              " 'discrete_addr_state_40_one_hot',\n",
              " 'discrete_addr_state_41_one_hot',\n",
              " 'discrete_addr_state_42_one_hot',\n",
              " 'discrete_addr_state_43_one_hot',\n",
              " 'discrete_addr_state_44_one_hot',\n",
              " 'discrete_addr_state_45_one_hot',\n",
              " 'discrete_addr_state_46_one_hot',\n",
              " 'discrete_addr_state_47_one_hot',\n",
              " 'discrete_addr_state_48_one_hot',\n",
              " 'discrete_addr_state_49_one_hot',\n",
              " 'discrete_application_type_1_one_hot',\n",
              " 'discrete_application_type_2_one_hot',\n",
              " 'discrete_emp_length_1_one_hot',\n",
              " 'discrete_emp_length_2_one_hot',\n",
              " 'discrete_emp_length_3_one_hot',\n",
              " 'discrete_emp_length_4_one_hot',\n",
              " 'discrete_emp_length_5_one_hot',\n",
              " 'discrete_emp_length_6_one_hot',\n",
              " 'discrete_emp_length_7_one_hot',\n",
              " 'discrete_emp_length_8_one_hot',\n",
              " 'discrete_emp_length_9_one_hot',\n",
              " 'discrete_emp_length_10_one_hot',\n",
              " 'discrete_emp_length_11_one_hot',\n",
              " 'discrete_emp_length_12_one_hot',\n",
              " 'discrete_grade_1_one_hot',\n",
              " 'discrete_grade_2_one_hot',\n",
              " 'discrete_grade_3_one_hot',\n",
              " 'discrete_grade_4_one_hot',\n",
              " 'discrete_grade_5_one_hot',\n",
              " 'discrete_grade_6_one_hot',\n",
              " 'discrete_grade_7_one_hot',\n",
              " 'discrete_home_ownership_1_one_hot',\n",
              " 'discrete_home_ownership_2_one_hot',\n",
              " 'discrete_home_ownership_3_one_hot',\n",
              " 'discrete_home_ownership_4_one_hot',\n",
              " 'discrete_policy_code_1_one_hot',\n",
              " 'discrete_purpose_1_one_hot',\n",
              " 'discrete_purpose_2_one_hot',\n",
              " 'discrete_purpose_3_one_hot',\n",
              " 'discrete_purpose_4_one_hot',\n",
              " 'discrete_purpose_5_one_hot',\n",
              " 'discrete_purpose_6_one_hot',\n",
              " 'discrete_purpose_7_one_hot',\n",
              " 'discrete_purpose_8_one_hot',\n",
              " 'discrete_purpose_9_one_hot',\n",
              " 'discrete_purpose_10_one_hot',\n",
              " 'discrete_purpose_11_one_hot',\n",
              " 'discrete_purpose_12_one_hot',\n",
              " 'discrete_pymnt_plan_1_one_hot',\n",
              " 'discrete_sub_grade_1_one_hot',\n",
              " 'discrete_sub_grade_2_one_hot',\n",
              " 'discrete_sub_grade_3_one_hot',\n",
              " 'discrete_sub_grade_4_one_hot',\n",
              " 'discrete_sub_grade_5_one_hot',\n",
              " 'discrete_sub_grade_6_one_hot',\n",
              " 'discrete_sub_grade_7_one_hot',\n",
              " 'discrete_sub_grade_8_one_hot',\n",
              " 'discrete_sub_grade_9_one_hot',\n",
              " 'discrete_sub_grade_10_one_hot',\n",
              " 'discrete_sub_grade_11_one_hot',\n",
              " 'discrete_sub_grade_12_one_hot',\n",
              " 'discrete_sub_grade_13_one_hot',\n",
              " 'discrete_sub_grade_14_one_hot',\n",
              " 'discrete_sub_grade_15_one_hot',\n",
              " 'discrete_sub_grade_16_one_hot',\n",
              " 'discrete_sub_grade_17_one_hot',\n",
              " 'discrete_sub_grade_18_one_hot',\n",
              " 'discrete_sub_grade_19_one_hot',\n",
              " 'discrete_sub_grade_20_one_hot',\n",
              " 'discrete_sub_grade_21_one_hot',\n",
              " 'discrete_sub_grade_22_one_hot',\n",
              " 'discrete_sub_grade_23_one_hot',\n",
              " 'discrete_sub_grade_24_one_hot',\n",
              " 'discrete_sub_grade_25_one_hot',\n",
              " 'discrete_sub_grade_26_one_hot',\n",
              " 'discrete_sub_grade_27_one_hot',\n",
              " 'discrete_sub_grade_28_one_hot',\n",
              " 'discrete_sub_grade_29_one_hot',\n",
              " 'discrete_sub_grade_30_one_hot',\n",
              " 'discrete_sub_grade_31_one_hot',\n",
              " 'discrete_sub_grade_32_one_hot',\n",
              " 'discrete_sub_grade_33_one_hot',\n",
              " 'discrete_sub_grade_34_one_hot',\n",
              " 'discrete_sub_grade_35_one_hot',\n",
              " 'discrete_term_1_one_hot',\n",
              " 'discrete_term_2_one_hot',\n",
              " 'continuous_last_fico_range_high_couts']"
            ]
          },
          "metadata": {},
          "execution_count": 277
        }
      ]
    },
    {
      "cell_type": "code",
      "metadata": {
        "colab": {
          "base_uri": "https://localhost:8080/"
        },
        "id": "auok9TOsqsiT",
        "outputId": "1ab33705-f519-406a-d79d-9e8dfad52f76"
      },
      "source": [
        "data.shape"
      ],
      "execution_count": 278,
      "outputs": [
        {
          "output_type": "execute_result",
          "data": {
            "text/plain": [
              "(100000, 147)"
            ]
          },
          "metadata": {},
          "execution_count": 278
        }
      ]
    },
    {
      "cell_type": "code",
      "metadata": {
        "id": "iMAOQmsvqU29",
        "colab": {
          "base_uri": "https://localhost:8080/"
        },
        "outputId": "f44daa04-2c2e-4e42-ffdf-92a0611f3450"
      },
      "source": [
        "# 拆开\n",
        "train_add = data.iloc[0:TRAIN_INDEX, :]\n",
        "test_add = data.iloc[TRAIN_INDEX:TEST_INDEX, :]\n",
        "train_add.shape"
      ],
      "execution_count": 279,
      "outputs": [
        {
          "output_type": "execute_result",
          "data": {
            "text/plain": [
              "(50000, 147)"
            ]
          },
          "metadata": {},
          "execution_count": 279
        }
      ]
    },
    {
      "cell_type": "code",
      "metadata": {
        "colab": {
          "base_uri": "https://localhost:8080/"
        },
        "id": "_Xb3y7nrRR0v",
        "outputId": "fd6e2208-68ed-4b29-fe57-51dd11dccfa9"
      },
      "source": [
        "test_add.shape"
      ],
      "execution_count": 178,
      "outputs": [
        {
          "output_type": "execute_result",
          "data": {
            "text/plain": [
              "(50000, 147)"
            ]
          },
          "metadata": {},
          "execution_count": 178
        }
      ]
    },
    {
      "cell_type": "code",
      "metadata": {
        "colab": {
          "base_uri": "https://localhost:8080/"
        },
        "id": "IH21Cm6cqcIF",
        "outputId": "03059d7d-5bfc-449d-e42e-edb043f3fb07"
      },
      "source": [
        "from sklearn.model_selection import KFold\n",
        "kfold = KFold(n_splits=5)\n",
        "for bagging_fraction in [1.0, 0.8, 0.7, 0.5, 0.4, 0.3]:\n",
        "    params = {'num_thread': 4, 'num_leaves': 4, 'metric': 'binary', 'objective': 'binary',\n",
        "                'num_round': 3000, 'learning_rate': 0.0075, 'feature_fraction': 0.8,\n",
        "           'bagging_fraction': bagging_fraction}\n",
        "    #  这里用train_add\n",
        "    train_pred, test_pred, error_rate, models = fitter.train_k_fold(kfold, train_add, test_add, params = params)\n",
        "    print(params)\n",
        "    print(np.mean(error_rate))\n",
        "    print(1 - accuracy_score(test_add['loan_status'], (test_pred > 0.5).astype(np.int64)))"
      ],
      "execution_count": 194,
      "outputs": [
        {
          "output_type": "stream",
          "text": [
            "The minimum is attained in round 2644\n",
            "The minimum is attained in round 2876\n",
            "The minimum is attained in round 2939\n",
            "The minimum is attained in round 2996\n",
            "The minimum is attained in round 2161\n",
            "{'num_thread': 4, 'num_leaves': 4, 'metric': 'binary', 'objective': 'binary', 'num_round': 3000, 'learning_rate': 0.0075, 'feature_fraction': 0.8, 'bagging_fraction': 1.0}\n",
            "0.07949999999999997\n",
            "0.08264000000000005\n",
            "The minimum is attained in round 2644\n",
            "The minimum is attained in round 2876\n",
            "The minimum is attained in round 2939\n",
            "The minimum is attained in round 2996\n",
            "The minimum is attained in round 2161\n",
            "{'num_thread': 4, 'num_leaves': 4, 'metric': 'binary', 'objective': 'binary', 'num_round': 3000, 'learning_rate': 0.0075, 'feature_fraction': 0.8, 'bagging_fraction': 0.8}\n",
            "0.07949999999999997\n",
            "0.08264000000000005\n",
            "The minimum is attained in round 2644\n",
            "The minimum is attained in round 2876\n",
            "The minimum is attained in round 2939\n",
            "The minimum is attained in round 2996\n",
            "The minimum is attained in round 2161\n",
            "{'num_thread': 4, 'num_leaves': 4, 'metric': 'binary', 'objective': 'binary', 'num_round': 3000, 'learning_rate': 0.0075, 'feature_fraction': 0.8, 'bagging_fraction': 0.7}\n",
            "0.07949999999999997\n",
            "0.08264000000000005\n",
            "The minimum is attained in round 2644\n",
            "The minimum is attained in round 2876\n",
            "The minimum is attained in round 2939\n",
            "The minimum is attained in round 2996\n",
            "The minimum is attained in round 2161\n",
            "{'num_thread': 4, 'num_leaves': 4, 'metric': 'binary', 'objective': 'binary', 'num_round': 3000, 'learning_rate': 0.0075, 'feature_fraction': 0.8, 'bagging_fraction': 0.5}\n",
            "0.07949999999999997\n",
            "0.08264000000000005\n",
            "The minimum is attained in round 2644\n",
            "The minimum is attained in round 2876\n",
            "The minimum is attained in round 2939\n",
            "The minimum is attained in round 2996\n",
            "The minimum is attained in round 2161\n",
            "{'num_thread': 4, 'num_leaves': 4, 'metric': 'binary', 'objective': 'binary', 'num_round': 3000, 'learning_rate': 0.0075, 'feature_fraction': 0.8, 'bagging_fraction': 0.4}\n",
            "0.07949999999999997\n",
            "0.08264000000000005\n",
            "The minimum is attained in round 2644\n",
            "The minimum is attained in round 2876\n",
            "The minimum is attained in round 2939\n",
            "The minimum is attained in round 2996\n",
            "The minimum is attained in round 2161\n",
            "{'num_thread': 4, 'num_leaves': 4, 'metric': 'binary', 'objective': 'binary', 'num_round': 3000, 'learning_rate': 0.0075, 'feature_fraction': 0.8, 'bagging_fraction': 0.3}\n",
            "0.07949999999999997\n",
            "0.08264000000000005\n"
          ],
          "name": "stdout"
        }
      ]
    },
    {
      "cell_type": "markdown",
      "metadata": {
        "id": "vTpUJ5gwP1c4"
      },
      "source": [
        "# Stacking\n",
        "\n"
      ]
    },
    {
      "cell_type": "code",
      "metadata": {
        "colab": {
          "base_uri": "https://localhost:8080/"
        },
        "id": "0loyguzcci6A",
        "outputId": "b73c46ba-4522-46f6-f136-5132a18c3d2f"
      },
      "source": [
        "pip install catboost"
      ],
      "execution_count": 202,
      "outputs": [
        {
          "output_type": "stream",
          "text": [
            "Requirement already satisfied: catboost in /usr/local/lib/python3.7/dist-packages (0.26.1)\n",
            "Requirement already satisfied: six in /usr/local/lib/python3.7/dist-packages (from catboost) (1.15.0)\n",
            "Requirement already satisfied: numpy>=1.16.0 in /usr/local/lib/python3.7/dist-packages (from catboost) (1.19.5)\n",
            "Requirement already satisfied: pandas>=0.24.0 in /usr/local/lib/python3.7/dist-packages (from catboost) (1.1.5)\n",
            "Requirement already satisfied: graphviz in /usr/local/lib/python3.7/dist-packages (from catboost) (0.10.1)\n",
            "Requirement already satisfied: matplotlib in /usr/local/lib/python3.7/dist-packages (from catboost) (3.2.2)\n",
            "Requirement already satisfied: plotly in /usr/local/lib/python3.7/dist-packages (from catboost) (4.4.1)\n",
            "Requirement already satisfied: scipy in /usr/local/lib/python3.7/dist-packages (from catboost) (1.4.1)\n",
            "Requirement already satisfied: pytz>=2017.2 in /usr/local/lib/python3.7/dist-packages (from pandas>=0.24.0->catboost) (2018.9)\n",
            "Requirement already satisfied: python-dateutil>=2.7.3 in /usr/local/lib/python3.7/dist-packages (from pandas>=0.24.0->catboost) (2.8.2)\n",
            "Requirement already satisfied: kiwisolver>=1.0.1 in /usr/local/lib/python3.7/dist-packages (from matplotlib->catboost) (1.3.1)\n",
            "Requirement already satisfied: cycler>=0.10 in /usr/local/lib/python3.7/dist-packages (from matplotlib->catboost) (0.10.0)\n",
            "Requirement already satisfied: pyparsing!=2.0.4,!=2.1.2,!=2.1.6,>=2.0.1 in /usr/local/lib/python3.7/dist-packages (from matplotlib->catboost) (2.4.7)\n",
            "Requirement already satisfied: retrying>=1.3.3 in /usr/local/lib/python3.7/dist-packages (from plotly->catboost) (1.3.3)\n"
          ],
          "name": "stdout"
        }
      ]
    },
    {
      "cell_type": "code",
      "metadata": {
        "colab": {
          "base_uri": "https://localhost:8080/"
        },
        "id": "BQEk29XudBCX",
        "outputId": "dc3c4d47-1c52-4c00-ba2c-aad232c114f0"
      },
      "source": [
        "pip install utils"
      ],
      "execution_count": 208,
      "outputs": [
        {
          "output_type": "stream",
          "text": [
            "Collecting utils\n",
            "  Downloading utils-1.0.1-py2.py3-none-any.whl (21 kB)\n",
            "Installing collected packages: utils\n",
            "Successfully installed utils-1.0.1\n"
          ],
          "name": "stdout"
        }
      ]
    },
    {
      "cell_type": "code",
      "metadata": {
        "id": "DeoWsolQB7Fz"
      },
      "source": [
        "import warnings\n",
        "warnings.filterwarnings('ignore')\n",
        "import pandas as pd\n",
        "import numpy as np\n",
        "import matplotlib.pyplot as plt\n",
        "from sklearn.model_selection import cross_val_score\n",
        "from sklearn.metrics import mean_absolute_error,  make_scorer\n",
        "from xgboost.sklearn import XGBRegressor\n",
        "from lightgbm.sklearn import LGBMRegressor\n",
        "from sklearn.model_selection import train_test_split\n",
        "from sklearn.ensemble import GradientBoostingRegressor\n",
        "import lightgbm as lgb\n",
        "import xgboost as xgb\n",
        "from sklearn.model_selection import GridSearchCV,cross_val_score\n",
        "from sklearn import linear_model"
      ],
      "execution_count": 300,
      "outputs": []
    },
    {
      "cell_type": "code",
      "metadata": {
        "id": "1qkss10ydL3N"
      },
      "source": [
        "# X_data = Train_data.drop('price', axis=1) #删除列\n",
        "X_data = train_add.drop(columns='loan_status')\n",
        "Y_data = train_add['loan_status']\n",
        "X_test  = test_add.drop(columns='loan_status')"
      ],
      "execution_count": 301,
      "outputs": []
    },
    {
      "cell_type": "code",
      "metadata": {
        "id": "vTSOBcvqgW-J"
      },
      "source": [
        "#定义模型\n",
        "def build_model_gbdt(x_train,y_train):\n",
        "    estimator =GradientBoostingRegressor(loss='ls',subsample= 0.85,max_depth= 5,n_estimators = 100)\n",
        "    param_grid = { \n",
        "            'learning_rate': [0.05,0.08,0.1,0.2],\n",
        "            }\n",
        "    gbdt = GridSearchCV(estimator, param_grid,cv=3)\n",
        "    gbdt.fit(x_train,y_train)\n",
        "    print(gbdt.best_params_)\n",
        "    # print(gbdt.best_estimator_ )\n",
        "    return gbdt\n",
        "\n",
        "def build_model_xgb(x_train,y_train):\n",
        "    model = xgb.XGBRegressor(n_estimators=120, learning_rate=0.08, gamma=0, subsample=0.8,\\\n",
        "        colsample_bytree=0.9, max_depth=5) #, objective ='reg:squarederror'\n",
        "    model.fit(x_train, y_train)\n",
        "    return model\n",
        "\n",
        "def build_model_lgb(x_train,y_train):\n",
        "    estimator = lgb.LGBMRegressor(num_leaves=4,n_estimators = 3000)\n",
        "    param_grid = {\n",
        "        # 'learning_rate': [0.0075],\n",
        "        'num_leaves': 4,\n",
        "        'metric': 'binary', \n",
        "        'objective': 'binary', \n",
        "        'num_round': 3000, \n",
        "        'learning_rate': 0.0075, \n",
        "        'feature_fraction': 0.8, \n",
        "        'bagging_fraction': 0.8\n",
        "    }\n",
        "    gbm = GridSearchCV(estimator, param_grid)\n",
        "    gbm.fit(x_train, y_train)\n",
        "    return gbm\n",
        "\n",
        "def build_model_lr(x_train,y_train):\n",
        "    reg_model = linear_model.LinearRegression()\n",
        "    reg_model.fit(x_train,y_train)\n",
        "    return reg_model"
      ],
      "execution_count": 302,
      "outputs": []
    },
    {
      "cell_type": "code",
      "metadata": {
        "colab": {
          "base_uri": "https://localhost:8080/",
          "height": 402
        },
        "id": "U9cyqJ4QgiFC",
        "outputId": "91fe6e94-4c2c-46f4-feec-af7f22711aaa"
      },
      "source": [
        "#交叉验证\n",
        "#划分训练集和测试集\n",
        "X_data=pd.DataFrame(X_data).fillna(-1)\n",
        "Y_data=pd.DataFrame(Y_data).fillna(-1)\n",
        "X_test=pd.DataFrame(X_test).fillna(-1)\n",
        "x_train,x_val,y_train,y_val = train_test_split(X_data,Y_data,test_size=0.3)\n",
        "\n",
        "#训练模型\n",
        "print('Predict GBDT...')\n",
        "model_gbdt = build_model_gbdt(x_train,y_train)\n",
        "val_gbdt = model_gbdt.predict(x_val)\n",
        "\n"
      ],
      "execution_count": 303,
      "outputs": [
        {
          "output_type": "stream",
          "text": [
            "Predict GBDT...\n"
          ],
          "name": "stdout"
        },
        {
          "output_type": "error",
          "ename": "KeyboardInterrupt",
          "evalue": "ignored",
          "traceback": [
            "\u001b[0;31m---------------------------------------------------------------------------\u001b[0m",
            "\u001b[0;31mKeyboardInterrupt\u001b[0m                         Traceback (most recent call last)",
            "\u001b[0;32m<ipython-input-303-72d95f2f193d>\u001b[0m in \u001b[0;36m<module>\u001b[0;34m()\u001b[0m\n\u001b[1;32m      8\u001b[0m \u001b[0;31m#训练模型\u001b[0m\u001b[0;34m\u001b[0m\u001b[0;34m\u001b[0m\u001b[0;34m\u001b[0m\u001b[0m\n\u001b[1;32m      9\u001b[0m \u001b[0mprint\u001b[0m\u001b[0;34m(\u001b[0m\u001b[0;34m'Predict GBDT...'\u001b[0m\u001b[0;34m)\u001b[0m\u001b[0;34m\u001b[0m\u001b[0;34m\u001b[0m\u001b[0m\n\u001b[0;32m---> 10\u001b[0;31m \u001b[0mmodel_gbdt\u001b[0m \u001b[0;34m=\u001b[0m \u001b[0mbuild_model_gbdt\u001b[0m\u001b[0;34m(\u001b[0m\u001b[0mx_train\u001b[0m\u001b[0;34m,\u001b[0m\u001b[0my_train\u001b[0m\u001b[0;34m)\u001b[0m\u001b[0;34m\u001b[0m\u001b[0;34m\u001b[0m\u001b[0m\n\u001b[0m\u001b[1;32m     11\u001b[0m \u001b[0mval_gbdt\u001b[0m \u001b[0;34m=\u001b[0m \u001b[0mmodel_gbdt\u001b[0m\u001b[0;34m.\u001b[0m\u001b[0mpredict\u001b[0m\u001b[0;34m(\u001b[0m\u001b[0mx_val\u001b[0m\u001b[0;34m)\u001b[0m\u001b[0;34m\u001b[0m\u001b[0;34m\u001b[0m\u001b[0m\n\u001b[1;32m     12\u001b[0m \u001b[0;34m\u001b[0m\u001b[0m\n",
            "\u001b[0;32m<ipython-input-302-caddd09664a0>\u001b[0m in \u001b[0;36mbuild_model_gbdt\u001b[0;34m(x_train, y_train)\u001b[0m\n\u001b[1;32m      6\u001b[0m             }\n\u001b[1;32m      7\u001b[0m     \u001b[0mgbdt\u001b[0m \u001b[0;34m=\u001b[0m \u001b[0mGridSearchCV\u001b[0m\u001b[0;34m(\u001b[0m\u001b[0mestimator\u001b[0m\u001b[0;34m,\u001b[0m \u001b[0mparam_grid\u001b[0m\u001b[0;34m,\u001b[0m\u001b[0mcv\u001b[0m\u001b[0;34m=\u001b[0m\u001b[0;36m3\u001b[0m\u001b[0;34m)\u001b[0m\u001b[0;34m\u001b[0m\u001b[0;34m\u001b[0m\u001b[0m\n\u001b[0;32m----> 8\u001b[0;31m     \u001b[0mgbdt\u001b[0m\u001b[0;34m.\u001b[0m\u001b[0mfit\u001b[0m\u001b[0;34m(\u001b[0m\u001b[0mx_train\u001b[0m\u001b[0;34m,\u001b[0m\u001b[0my_train\u001b[0m\u001b[0;34m)\u001b[0m\u001b[0;34m\u001b[0m\u001b[0;34m\u001b[0m\u001b[0m\n\u001b[0m\u001b[1;32m      9\u001b[0m     \u001b[0mprint\u001b[0m\u001b[0;34m(\u001b[0m\u001b[0mgbdt\u001b[0m\u001b[0;34m.\u001b[0m\u001b[0mbest_params_\u001b[0m\u001b[0;34m)\u001b[0m\u001b[0;34m\u001b[0m\u001b[0;34m\u001b[0m\u001b[0m\n\u001b[1;32m     10\u001b[0m     \u001b[0;31m# print(gbdt.best_estimator_ )\u001b[0m\u001b[0;34m\u001b[0m\u001b[0;34m\u001b[0m\u001b[0;34m\u001b[0m\u001b[0m\n",
            "\u001b[0;32m/usr/local/lib/python3.7/dist-packages/sklearn/model_selection/_search.py\u001b[0m in \u001b[0;36mfit\u001b[0;34m(self, X, y, groups, **fit_params)\u001b[0m\n\u001b[1;32m    737\u001b[0m             \u001b[0mrefit_start_time\u001b[0m \u001b[0;34m=\u001b[0m \u001b[0mtime\u001b[0m\u001b[0;34m.\u001b[0m\u001b[0mtime\u001b[0m\u001b[0;34m(\u001b[0m\u001b[0;34m)\u001b[0m\u001b[0;34m\u001b[0m\u001b[0;34m\u001b[0m\u001b[0m\n\u001b[1;32m    738\u001b[0m             \u001b[0;32mif\u001b[0m \u001b[0my\u001b[0m \u001b[0;32mis\u001b[0m \u001b[0;32mnot\u001b[0m \u001b[0;32mNone\u001b[0m\u001b[0;34m:\u001b[0m\u001b[0;34m\u001b[0m\u001b[0;34m\u001b[0m\u001b[0m\n\u001b[0;32m--> 739\u001b[0;31m                 \u001b[0mself\u001b[0m\u001b[0;34m.\u001b[0m\u001b[0mbest_estimator_\u001b[0m\u001b[0;34m.\u001b[0m\u001b[0mfit\u001b[0m\u001b[0;34m(\u001b[0m\u001b[0mX\u001b[0m\u001b[0;34m,\u001b[0m \u001b[0my\u001b[0m\u001b[0;34m,\u001b[0m \u001b[0;34m**\u001b[0m\u001b[0mfit_params\u001b[0m\u001b[0;34m)\u001b[0m\u001b[0;34m\u001b[0m\u001b[0;34m\u001b[0m\u001b[0m\n\u001b[0m\u001b[1;32m    740\u001b[0m             \u001b[0;32melse\u001b[0m\u001b[0;34m:\u001b[0m\u001b[0;34m\u001b[0m\u001b[0;34m\u001b[0m\u001b[0m\n\u001b[1;32m    741\u001b[0m                 \u001b[0mself\u001b[0m\u001b[0;34m.\u001b[0m\u001b[0mbest_estimator_\u001b[0m\u001b[0;34m.\u001b[0m\u001b[0mfit\u001b[0m\u001b[0;34m(\u001b[0m\u001b[0mX\u001b[0m\u001b[0;34m,\u001b[0m \u001b[0;34m**\u001b[0m\u001b[0mfit_params\u001b[0m\u001b[0;34m)\u001b[0m\u001b[0;34m\u001b[0m\u001b[0;34m\u001b[0m\u001b[0m\n",
            "\u001b[0;32m/usr/local/lib/python3.7/dist-packages/sklearn/ensemble/_gb.py\u001b[0m in \u001b[0;36mfit\u001b[0;34m(self, X, y, sample_weight, monitor)\u001b[0m\n\u001b[1;32m   1535\u001b[0m         n_stages = self._fit_stages(\n\u001b[1;32m   1536\u001b[0m             \u001b[0mX\u001b[0m\u001b[0;34m,\u001b[0m \u001b[0my\u001b[0m\u001b[0;34m,\u001b[0m \u001b[0mraw_predictions\u001b[0m\u001b[0;34m,\u001b[0m \u001b[0msample_weight\u001b[0m\u001b[0;34m,\u001b[0m \u001b[0mself\u001b[0m\u001b[0;34m.\u001b[0m\u001b[0m_rng\u001b[0m\u001b[0;34m,\u001b[0m \u001b[0mX_val\u001b[0m\u001b[0;34m,\u001b[0m \u001b[0my_val\u001b[0m\u001b[0;34m,\u001b[0m\u001b[0;34m\u001b[0m\u001b[0;34m\u001b[0m\u001b[0m\n\u001b[0;32m-> 1537\u001b[0;31m             sample_weight_val, begin_at_stage, monitor, X_idx_sorted)\n\u001b[0m\u001b[1;32m   1538\u001b[0m \u001b[0;34m\u001b[0m\u001b[0m\n\u001b[1;32m   1539\u001b[0m         \u001b[0;31m# change shape of arrays after fit (early-stopping or additional ests)\u001b[0m\u001b[0;34m\u001b[0m\u001b[0;34m\u001b[0m\u001b[0;34m\u001b[0m\u001b[0m\n",
            "\u001b[0;32m/usr/local/lib/python3.7/dist-packages/sklearn/ensemble/_gb.py\u001b[0m in \u001b[0;36m_fit_stages\u001b[0;34m(self, X, y, raw_predictions, sample_weight, random_state, X_val, y_val, sample_weight_val, begin_at_stage, monitor, X_idx_sorted)\u001b[0m\n\u001b[1;32m   1592\u001b[0m             raw_predictions = self._fit_stage(\n\u001b[1;32m   1593\u001b[0m                 \u001b[0mi\u001b[0m\u001b[0;34m,\u001b[0m \u001b[0mX\u001b[0m\u001b[0;34m,\u001b[0m \u001b[0my\u001b[0m\u001b[0;34m,\u001b[0m \u001b[0mraw_predictions\u001b[0m\u001b[0;34m,\u001b[0m \u001b[0msample_weight\u001b[0m\u001b[0;34m,\u001b[0m \u001b[0msample_mask\u001b[0m\u001b[0;34m,\u001b[0m\u001b[0;34m\u001b[0m\u001b[0;34m\u001b[0m\u001b[0m\n\u001b[0;32m-> 1594\u001b[0;31m                 random_state, X_idx_sorted, X_csc, X_csr)\n\u001b[0m\u001b[1;32m   1595\u001b[0m \u001b[0;34m\u001b[0m\u001b[0m\n\u001b[1;32m   1596\u001b[0m             \u001b[0;31m# track deviance (= loss)\u001b[0m\u001b[0;34m\u001b[0m\u001b[0;34m\u001b[0m\u001b[0;34m\u001b[0m\u001b[0m\n",
            "\u001b[0;32m/usr/local/lib/python3.7/dist-packages/sklearn/ensemble/_gb.py\u001b[0m in \u001b[0;36m_fit_stage\u001b[0;34m(self, i, X, y, raw_predictions, sample_weight, sample_mask, random_state, X_idx_sorted, X_csc, X_csr)\u001b[0m\n\u001b[1;32m   1243\u001b[0m             \u001b[0mX\u001b[0m \u001b[0;34m=\u001b[0m \u001b[0mX_csr\u001b[0m \u001b[0;32mif\u001b[0m \u001b[0mX_csr\u001b[0m \u001b[0;32mis\u001b[0m \u001b[0;32mnot\u001b[0m \u001b[0;32mNone\u001b[0m \u001b[0;32melse\u001b[0m \u001b[0mX\u001b[0m\u001b[0;34m\u001b[0m\u001b[0;34m\u001b[0m\u001b[0m\n\u001b[1;32m   1244\u001b[0m             tree.fit(X, residual, sample_weight=sample_weight,\n\u001b[0;32m-> 1245\u001b[0;31m                      check_input=False, X_idx_sorted=X_idx_sorted)\n\u001b[0m\u001b[1;32m   1246\u001b[0m \u001b[0;34m\u001b[0m\u001b[0m\n\u001b[1;32m   1247\u001b[0m             \u001b[0;31m# update tree leaves\u001b[0m\u001b[0;34m\u001b[0m\u001b[0;34m\u001b[0m\u001b[0;34m\u001b[0m\u001b[0m\n",
            "\u001b[0;32m/usr/local/lib/python3.7/dist-packages/sklearn/tree/_classes.py\u001b[0m in \u001b[0;36mfit\u001b[0;34m(self, X, y, sample_weight, check_input, X_idx_sorted)\u001b[0m\n\u001b[1;32m   1223\u001b[0m             \u001b[0msample_weight\u001b[0m\u001b[0;34m=\u001b[0m\u001b[0msample_weight\u001b[0m\u001b[0;34m,\u001b[0m\u001b[0;34m\u001b[0m\u001b[0;34m\u001b[0m\u001b[0m\n\u001b[1;32m   1224\u001b[0m             \u001b[0mcheck_input\u001b[0m\u001b[0;34m=\u001b[0m\u001b[0mcheck_input\u001b[0m\u001b[0;34m,\u001b[0m\u001b[0;34m\u001b[0m\u001b[0;34m\u001b[0m\u001b[0m\n\u001b[0;32m-> 1225\u001b[0;31m             X_idx_sorted=X_idx_sorted)\n\u001b[0m\u001b[1;32m   1226\u001b[0m         \u001b[0;32mreturn\u001b[0m \u001b[0mself\u001b[0m\u001b[0;34m\u001b[0m\u001b[0;34m\u001b[0m\u001b[0m\n\u001b[1;32m   1227\u001b[0m \u001b[0;34m\u001b[0m\u001b[0m\n",
            "\u001b[0;32m/usr/local/lib/python3.7/dist-packages/sklearn/tree/_classes.py\u001b[0m in \u001b[0;36mfit\u001b[0;34m(self, X, y, sample_weight, check_input, X_idx_sorted)\u001b[0m\n\u001b[1;32m    365\u001b[0m                                            min_impurity_split)\n\u001b[1;32m    366\u001b[0m \u001b[0;34m\u001b[0m\u001b[0m\n\u001b[0;32m--> 367\u001b[0;31m         \u001b[0mbuilder\u001b[0m\u001b[0;34m.\u001b[0m\u001b[0mbuild\u001b[0m\u001b[0;34m(\u001b[0m\u001b[0mself\u001b[0m\u001b[0;34m.\u001b[0m\u001b[0mtree_\u001b[0m\u001b[0;34m,\u001b[0m \u001b[0mX\u001b[0m\u001b[0;34m,\u001b[0m \u001b[0my\u001b[0m\u001b[0;34m,\u001b[0m \u001b[0msample_weight\u001b[0m\u001b[0;34m,\u001b[0m \u001b[0mX_idx_sorted\u001b[0m\u001b[0;34m)\u001b[0m\u001b[0;34m\u001b[0m\u001b[0;34m\u001b[0m\u001b[0m\n\u001b[0m\u001b[1;32m    368\u001b[0m \u001b[0;34m\u001b[0m\u001b[0m\n\u001b[1;32m    369\u001b[0m         \u001b[0;32mif\u001b[0m \u001b[0mself\u001b[0m\u001b[0;34m.\u001b[0m\u001b[0mn_outputs_\u001b[0m \u001b[0;34m==\u001b[0m \u001b[0;36m1\u001b[0m \u001b[0;32mand\u001b[0m \u001b[0mis_classifier\u001b[0m\u001b[0;34m(\u001b[0m\u001b[0mself\u001b[0m\u001b[0;34m)\u001b[0m\u001b[0;34m:\u001b[0m\u001b[0;34m\u001b[0m\u001b[0;34m\u001b[0m\u001b[0m\n",
            "\u001b[0;31mKeyboardInterrupt\u001b[0m: "
          ]
        }
      ]
    },
    {
      "cell_type": "code",
      "metadata": {
        "id": "VdBsaFm7naa4"
      },
      "source": [
        "subA_gbdt = model_gbdt.predict(X_test)"
      ],
      "execution_count": 297,
      "outputs": []
    },
    {
      "cell_type": "code",
      "metadata": {
        "colab": {
          "base_uri": "https://localhost:8080/"
        },
        "id": "fl-HqxKymkVk",
        "outputId": "0f284fba-4ed2-4a90-e13b-91d19443d8dd"
      },
      "source": [
        "print('predict XGB...')\n",
        "model_xgb = build_model_xgb(x_train,y_train)\n",
        "val_xgb = model_xgb.predict(x_val)\n",
        "subA_xgb = model_xgb.predict(X_test)"
      ],
      "execution_count": 298,
      "outputs": [
        {
          "output_type": "stream",
          "text": [
            "predict XGB...\n",
            "[11:43:53] WARNING: /workspace/src/objective/regression_obj.cu:152: reg:linear is now deprecated in favor of reg:squarederror.\n"
          ],
          "name": "stdout"
        }
      ]
    },
    {
      "cell_type": "code",
      "metadata": {
        "colab": {
          "base_uri": "https://localhost:8080/",
          "height": 385
        },
        "id": "cIiwYwKImmyj",
        "outputId": "d0acfdf7-0e75-4742-f0eb-db99566de4fa"
      },
      "source": [
        "print('predict lgb...')\n",
        "model_lgb = build_model_lgb(x_train,y_train)\n",
        "val_lgb = model_lgb.predict(x_val)\n",
        "subA_lgb = model_lgb.predict(X_test)"
      ],
      "execution_count": 299,
      "outputs": [
        {
          "output_type": "stream",
          "text": [
            "predict lgb...\n"
          ],
          "name": "stdout"
        },
        {
          "output_type": "error",
          "ename": "ValueError",
          "evalue": "ignored",
          "traceback": [
            "\u001b[0;31m---------------------------------------------------------------------------\u001b[0m",
            "\u001b[0;31mValueError\u001b[0m                                Traceback (most recent call last)",
            "\u001b[0;32m<ipython-input-299-ceccd625817e>\u001b[0m in \u001b[0;36m<module>\u001b[0;34m()\u001b[0m\n\u001b[1;32m      1\u001b[0m \u001b[0mprint\u001b[0m\u001b[0;34m(\u001b[0m\u001b[0;34m'predict lgb...'\u001b[0m\u001b[0;34m)\u001b[0m\u001b[0;34m\u001b[0m\u001b[0;34m\u001b[0m\u001b[0m\n\u001b[0;32m----> 2\u001b[0;31m \u001b[0mmodel_lgb\u001b[0m \u001b[0;34m=\u001b[0m \u001b[0mbuild_model_lgb\u001b[0m\u001b[0;34m(\u001b[0m\u001b[0mx_train\u001b[0m\u001b[0;34m,\u001b[0m\u001b[0my_train\u001b[0m\u001b[0;34m)\u001b[0m\u001b[0;34m\u001b[0m\u001b[0;34m\u001b[0m\u001b[0m\n\u001b[0m\u001b[1;32m      3\u001b[0m \u001b[0mval_lgb\u001b[0m \u001b[0;34m=\u001b[0m \u001b[0mmodel_lgb\u001b[0m\u001b[0;34m.\u001b[0m\u001b[0mpredict\u001b[0m\u001b[0;34m(\u001b[0m\u001b[0mx_val\u001b[0m\u001b[0;34m)\u001b[0m\u001b[0;34m\u001b[0m\u001b[0;34m\u001b[0m\u001b[0m\n\u001b[1;32m      4\u001b[0m \u001b[0msubA_lgb\u001b[0m \u001b[0;34m=\u001b[0m \u001b[0mmodel_lgb\u001b[0m\u001b[0;34m.\u001b[0m\u001b[0mpredict\u001b[0m\u001b[0;34m(\u001b[0m\u001b[0mX_test\u001b[0m\u001b[0;34m)\u001b[0m\u001b[0;34m\u001b[0m\u001b[0;34m\u001b[0m\u001b[0m\n",
            "\u001b[0;32m<ipython-input-295-caddd09664a0>\u001b[0m in \u001b[0;36mbuild_model_lgb\u001b[0;34m(x_train, y_train)\u001b[0m\n\u001b[1;32m     28\u001b[0m         \u001b[0;34m'bagging_fraction'\u001b[0m\u001b[0;34m:\u001b[0m \u001b[0;36m0.8\u001b[0m\u001b[0;34m\u001b[0m\u001b[0;34m\u001b[0m\u001b[0m\n\u001b[1;32m     29\u001b[0m     }\n\u001b[0;32m---> 30\u001b[0;31m     \u001b[0mgbm\u001b[0m \u001b[0;34m=\u001b[0m \u001b[0mGridSearchCV\u001b[0m\u001b[0;34m(\u001b[0m\u001b[0mestimator\u001b[0m\u001b[0;34m,\u001b[0m \u001b[0mparam_grid\u001b[0m\u001b[0;34m)\u001b[0m\u001b[0;34m\u001b[0m\u001b[0;34m\u001b[0m\u001b[0m\n\u001b[0m\u001b[1;32m     31\u001b[0m     \u001b[0mgbm\u001b[0m\u001b[0;34m.\u001b[0m\u001b[0mfit\u001b[0m\u001b[0;34m(\u001b[0m\u001b[0mx_train\u001b[0m\u001b[0;34m,\u001b[0m \u001b[0my_train\u001b[0m\u001b[0;34m)\u001b[0m\u001b[0;34m\u001b[0m\u001b[0;34m\u001b[0m\u001b[0m\n\u001b[1;32m     32\u001b[0m     \u001b[0;32mreturn\u001b[0m \u001b[0mgbm\u001b[0m\u001b[0;34m\u001b[0m\u001b[0;34m\u001b[0m\u001b[0m\n",
            "\u001b[0;32m/usr/local/lib/python3.7/dist-packages/sklearn/model_selection/_search.py\u001b[0m in \u001b[0;36m__init__\u001b[0;34m(self, estimator, param_grid, scoring, n_jobs, iid, refit, cv, verbose, pre_dispatch, error_score, return_train_score)\u001b[0m\n\u001b[1;32m   1145\u001b[0m             return_train_score=return_train_score)\n\u001b[1;32m   1146\u001b[0m         \u001b[0mself\u001b[0m\u001b[0;34m.\u001b[0m\u001b[0mparam_grid\u001b[0m \u001b[0;34m=\u001b[0m \u001b[0mparam_grid\u001b[0m\u001b[0;34m\u001b[0m\u001b[0;34m\u001b[0m\u001b[0m\n\u001b[0;32m-> 1147\u001b[0;31m         \u001b[0m_check_param_grid\u001b[0m\u001b[0;34m(\u001b[0m\u001b[0mparam_grid\u001b[0m\u001b[0;34m)\u001b[0m\u001b[0;34m\u001b[0m\u001b[0;34m\u001b[0m\u001b[0m\n\u001b[0m\u001b[1;32m   1148\u001b[0m \u001b[0;34m\u001b[0m\u001b[0m\n\u001b[1;32m   1149\u001b[0m     \u001b[0;32mdef\u001b[0m \u001b[0m_run_search\u001b[0m\u001b[0;34m(\u001b[0m\u001b[0mself\u001b[0m\u001b[0;34m,\u001b[0m \u001b[0mevaluate_candidates\u001b[0m\u001b[0;34m)\u001b[0m\u001b[0;34m:\u001b[0m\u001b[0;34m\u001b[0m\u001b[0;34m\u001b[0m\u001b[0m\n",
            "\u001b[0;32m/usr/local/lib/python3.7/dist-packages/sklearn/model_selection/_search.py\u001b[0m in \u001b[0;36m_check_param_grid\u001b[0;34m(param_grid)\u001b[0m\n\u001b[1;32m    384\u001b[0m                 raise ValueError(\"Parameter values for parameter ({0}) need \"\n\u001b[1;32m    385\u001b[0m                                  \u001b[0;34m\"to be a sequence(but not a string) or\"\u001b[0m\u001b[0;34m\u001b[0m\u001b[0;34m\u001b[0m\u001b[0m\n\u001b[0;32m--> 386\u001b[0;31m                                  \" np.ndarray.\".format(name))\n\u001b[0m\u001b[1;32m    387\u001b[0m \u001b[0;34m\u001b[0m\u001b[0m\n\u001b[1;32m    388\u001b[0m             \u001b[0;32mif\u001b[0m \u001b[0mlen\u001b[0m\u001b[0;34m(\u001b[0m\u001b[0mv\u001b[0m\u001b[0;34m)\u001b[0m \u001b[0;34m==\u001b[0m \u001b[0;36m0\u001b[0m\u001b[0;34m:\u001b[0m\u001b[0;34m\u001b[0m\u001b[0;34m\u001b[0m\u001b[0m\n",
            "\u001b[0;31mValueError\u001b[0m: Parameter values for parameter (num_leaves) need to be a sequence(but not a string) or np.ndarray."
          ]
        }
      ]
    },
    {
      "cell_type": "code",
      "metadata": {
        "id": "ho1Njd-MglT3"
      },
      "source": [
        "#Starking\n",
        "#第一层\n",
        "train_lgb_pred = model_lgb.predict(x_train)\n",
        "train_xgb_pred = model_xgb.predict(x_train)\n",
        "train_gbdt_pred = model_gbdt.predict(x_train)\n",
        "\n",
        "Strak_X_train = pd.DataFrame()\n",
        "Strak_X_train['Method_1'] = train_lgb_pred\n",
        "Strak_X_train['Method_2'] = train_xgb_pred\n",
        "Strak_X_train['Method_3'] = train_gbdt_pred\n",
        "\n",
        "Strak_X_val = pd.DataFrame()\n",
        "Strak_X_val['Method_1'] = val_lgb\n",
        "Strak_X_val['Method_2'] = val_xgb\n",
        "Strak_X_val['Method_3'] = val_gbdt\n",
        "\n",
        "Strak_X_test = pd.DataFrame()\n",
        "Strak_X_test['Method_1'] = subA_lgb\n",
        "Strak_X_test['Method_2'] = subA_xgb\n",
        "Strak_X_test['Method_3'] = subA_gbdt"
      ],
      "execution_count": 243,
      "outputs": []
    },
    {
      "cell_type": "code",
      "metadata": {
        "colab": {
          "base_uri": "https://localhost:8080/"
        },
        "id": "tZGT6opUjW68",
        "outputId": "6465ef1d-d31a-401c-addc-5a0c277e9817"
      },
      "source": [
        "#第二层\n",
        "model_lr_Stacking = build_model_lgb(Strak_X_train,y_train)\n",
        "train_lgb_pred_y = model_lr_Stacking.predict(Strak_X_train)\n",
        "print(1 - accuracy_score(y_train['loan_status'], (train_lgb_pred_y > 0.5).astype(np.int64)))\n",
        "\n",
        "# #训练集\n",
        "train_pre_Stacking = model_lr_Stacking.predict(Strak_X_train)\n",
        "print(1 - accuracy_score(y_train['loan_status'], (train_pre_Stacking > 0.5).astype(np.int64)))\n",
        "# print('MAE of Stacking-LR:',mean_absolute_error(y_train,train_pre_Stacking))\n",
        "\n",
        "# #验证集\n",
        "# val_pre_Stacking = model_lr_Stacking.predict(Strak_X_val)\n",
        "# print('MAE of Stacking-LR:',mean_absolute_error(y_val,val_pre_Stacking))\n",
        "\n",
        "# #预测集\n",
        "# print('Predict Stacking-LR...')\n",
        "# subA_Stacking = model_lr_Stacking.predict(Strak_X_test)\n"
      ],
      "execution_count": 290,
      "outputs": [
        {
          "output_type": "stream",
          "text": [
            "0.08605714285714283\n"
          ],
          "name": "stdout"
        }
      ]
    },
    {
      "cell_type": "markdown",
      "metadata": {
        "id": "v6Jzqe6whqst"
      },
      "source": [
        "# Why it doesn't work?\n",
        "---\n",
        "In LigthGBM, the algorithm will automatically create binnings. In this case, since about 10% of the \"loan amount\" is exactly $10000, it will automatically fall into a bin. Therefore, adding the additional data will not work.  "
      ]
    },
    {
      "cell_type": "code",
      "metadata": {
        "colab": {
          "base_uri": "https://localhost:8080/"
        },
        "id": "Z0O8odv5lzr9",
        "outputId": "c8bcf940-cb9d-41a0-9346-e7d3ee708122"
      },
      "source": [
        "# We can find the most important variables in the following ways.\n",
        "features = train_new.drop(columns='loan_status').columns.to_list()\n",
        "importance = models[0].feature_importance(importance_type = 'gain')\n",
        "# print(importance)\n",
        "feautre_importance = sorted(zip(features, importance), key = lambda x : x[1], reverse=True)\n",
        "print(feautre_importance)"
      ],
      "execution_count": 115,
      "outputs": [
        {
          "output_type": "stream",
          "text": [
            "[6.65184672e+03 7.21707010e+00 1.18339314e+03 1.57761869e+04\n",
            " 2.53335690e+02 7.17213447e+03 1.74402112e+03 1.71171757e+04\n",
            " 1.18503906e+04 1.81346271e+03 1.09091043e+04 6.17728762e+03\n",
            " 1.27041784e+06 2.60077710e+05 1.38542367e+03 7.39806283e+03\n",
            " 3.27635631e+03 4.74320199e+03 5.55124015e+03 3.83817910e+02\n",
            " 4.29163601e+01 0.00000000e+00 5.95496682e+02 5.16357059e+02\n",
            " 9.41730022e+00 8.43172014e+00 1.23258500e+01 4.31559700e+02\n",
            " 3.19684441e+02 1.20804601e+01 7.78411891e+01 4.74001389e+02\n",
            " 1.57237711e+02 2.31666821e+02 3.39957442e+02 4.59587169e+02\n",
            " 2.06811889e+02 2.08178980e+02 1.98170180e+02 1.13859799e+01\n",
            " 1.50773750e+02 6.98274493e+01 3.30169951e+02 1.08052171e+02\n",
            " 4.34809899e+02 0.00000000e+00 2.28272420e+02 2.28136497e+01\n",
            " 5.18220299e+01 0.00000000e+00 2.20102301e+01 1.42404669e+02\n",
            " 9.60802798e+01 5.53182403e+01 8.02860950e+02 1.97647910e+02\n",
            " 8.28609579e+02 3.95716000e+00 1.65993410e+02 2.49791020e+02\n",
            " 0.00000000e+00 0.00000000e+00 1.84192900e+02 2.35271001e+00\n",
            " 8.43264093e+01 3.11028512e+02 6.55907605e+01 0.00000000e+00\n",
            " 0.00000000e+00 0.00000000e+00 0.00000000e+00 7.07510941e+02\n",
            " 4.51647281e+02 3.52933418e+02 5.00899801e+01 3.80741297e+01\n",
            " 5.52929429e+02 3.53858270e+02 2.28712100e+02 1.26768091e+02\n",
            " 1.75164190e+02 4.06946112e+02 9.29957059e+03 2.12761119e+02\n",
            " 3.62179920e+02 1.00580649e+02 1.24999361e+02 0.00000000e+00\n",
            " 1.77000198e+01 0.00000000e+00 9.99283856e+02 9.05577510e+02\n",
            " 1.92668052e+02 0.00000000e+00 0.00000000e+00 9.10866003e+02\n",
            " 1.07099360e+02 5.08039579e+02 3.97851878e+02 3.99510126e+02\n",
            " 4.36756662e+02 1.27898602e+01 0.00000000e+00 5.35383201e+01\n",
            " 3.03481048e+02 8.61411600e+01 0.00000000e+00 0.00000000e+00\n",
            " 2.63394590e+02 2.83337798e+01 5.58203500e+02 1.63704731e+02\n",
            " 6.50462708e+01 1.03044501e+02 5.22300005e+00 2.39052260e+02\n",
            " 3.03431396e+01 3.46740591e+02 1.93420150e+02 3.22280002e+01\n",
            " 5.02666093e+02 4.06284904e+01 2.19415498e+01 1.88772790e+02\n",
            " 0.00000000e+00 8.06703293e+01 5.82347252e+02 3.15622331e+02\n",
            " 5.00918007e+00 1.03543779e+02 1.18121840e+02 4.26847709e+02\n",
            " 2.35875110e+02 1.14398301e+01 0.00000000e+00 1.24780930e+02\n",
            " 2.13047180e+02 0.00000000e+00 0.00000000e+00 8.10401700e+01\n",
            " 0.00000000e+00 0.00000000e+00 0.00000000e+00 5.49708272e+04\n",
            " 1.27844069e+04 2.28148967e+04]\n",
            "[('continuous_last_fico_range_high', 1270417.8383315802), ('continuous_last_fico_range_low', 260077.7099033594), ('discrete_term_1_one_hot', 54970.827188014984), ('continuous_funded_amnt', 17117.175745010376), ('continuous_dti', 15776.186890721321), ('discrete_term_2_one_hot', 12784.406855106354), ('continuous_funded_amnt_inv', 11850.39063167572), ('continuous_installment', 10909.104267001152), ('discrete_emp_length_12_one_hot', 9299.570585608482), ('continuous_mths_since_last_delinq', 7398.062825202942), ('continuous_fico_range_high', 7172.134468197823), ('continuous_annual_inc', 6651.8467165231705), ('continuous_int_rate', 6177.28762280941), ('continuous_open_acc', 5551.240146040916), ('continuous_mths_since_last_record', 4743.201994538307), ('continuous_mths_since_last_major_derog', 3276.3563091754913), ('continuous_inq_last_6mths', 1813.4627134799957), ('continuous_fico_range_low', 1744.0211173295975), ('continuous_loan_amnt', 1385.4236713647842), ('continuous_delinq_2yrs', 1183.3931410312653), ('discrete_home_ownership_1_one_hot', 999.2838563919067), ('discrete_purpose_1_one_hot', 910.8660027980804), ('discrete_home_ownership_2_one_hot', 905.5775096416473), ('discrete_addr_state_37_one_hot', 828.6095794439316), ('discrete_addr_state_35_one_hot', 802.8609499931335), ('discrete_emp_length_1_one_hot', 707.510941028595), ('discrete_addr_state_3_one_hot', 595.4966820478439), ('discrete_sub_grade_19_one_hot', 582.3472518920898), ('discrete_sub_grade_3_one_hot', 558.2034997940063), ('discrete_emp_length_6_one_hot', 552.9294294118881), ('discrete_addr_state_4_one_hot', 516.3570591211319), ('discrete_purpose_3_one_hot', 508.0395793914795), ('discrete_sub_grade_13_one_hot', 502.6660934686661), ('discrete_addr_state_12_one_hot', 474.00138902664185), ('discrete_addr_state_16_one_hot', 459.5871694087982), ('discrete_emp_length_2_one_hot', 451.6472806930542), ('discrete_purpose_6_one_hot', 436.75666189193726), ('discrete_addr_state_25_one_hot', 434.80989921092987), ('discrete_addr_state_8_one_hot', 431.5597001314163), ('discrete_sub_grade_24_one_hot', 426.84770917892456), ('discrete_emp_length_11_one_hot', 406.94611167907715), ('discrete_purpose_5_one_hot', 399.51012563705444), ('discrete_purpose_4_one_hot', 397.85187816619873), ('continuous_pub_rec', 383.817910194397), ('discrete_grade_2_one_hot', 362.1799204349518), ('discrete_emp_length_7_one_hot', 353.85827028751373), ('discrete_emp_length_3_one_hot', 352.9334182739258), ('discrete_sub_grade_10_one_hot', 346.7405905723572), ('discrete_addr_state_15_one_hot', 339.9574418067932), ('discrete_addr_state_23_one_hot', 330.16995120048523), ('discrete_addr_state_9_one_hot', 319.68444061279297), ('discrete_sub_grade_20_one_hot', 315.6223306655884), ('discrete_addr_state_46_one_hot', 311.0285120010376), ('discrete_purpose_10_one_hot', 303.4810481071472), ('discrete_sub_grade_1_one_hot', 263.3945896625519), ('continuous_dti_joint', 253.33569025993347), ('discrete_addr_state_40_one_hot', 249.7910200357437), ('discrete_sub_grade_8_one_hot', 239.052259683609), ('discrete_sub_grade_25_one_hot', 235.87511014938354), ('discrete_addr_state_14_one_hot', 231.66682147979736), ('discrete_emp_length_8_one_hot', 228.71209955215454), ('discrete_addr_state_27_one_hot', 228.27241957187653), ('discrete_sub_grade_29_one_hot', 213.04718017578125), ('discrete_grade_1_one_hot', 212.76111912727356), ('discrete_addr_state_18_one_hot', 208.17897987365723), ('discrete_addr_state_17_one_hot', 206.81188941001892), ('discrete_addr_state_19_one_hot', 198.17017996311188), ('discrete_addr_state_36_one_hot', 197.64790987968445), ('discrete_sub_grade_11_one_hot', 193.42015027999878), ('discrete_home_ownership_3_one_hot', 192.66805171966553), ('discrete_sub_grade_16_one_hot', 188.77279043197632), ('discrete_addr_state_43_one_hot', 184.19290006160736), ('discrete_emp_length_10_one_hot', 175.16419005393982), ('discrete_addr_state_39_one_hot', 165.99341011047363), ('discrete_sub_grade_4_one_hot', 163.70473051071167), ('discrete_addr_state_13_one_hot', 157.2377107143402), ('discrete_addr_state_21_one_hot', 150.77375030517578), ('discrete_addr_state_32_one_hot', 142.40466940402985), ('discrete_emp_length_9_one_hot', 126.76809096336365), ('discrete_grade_4_one_hot', 124.99936056137085), ('discrete_sub_grade_28_one_hot', 124.78092956542969), ('discrete_sub_grade_23_one_hot', 118.12184011936188), ('discrete_addr_state_24_one_hot', 108.052170753479), ('discrete_purpose_2_one_hot', 107.09935998916626), ('discrete_sub_grade_22_one_hot', 103.54377937316895), ('discrete_sub_grade_6_one_hot', 103.04450058937073), ('discrete_grade_3_one_hot', 100.58064889907837), ('discrete_addr_state_33_one_hot', 96.08027982711792), ('discrete_purpose_11_one_hot', 86.1411600112915), ('discrete_addr_state_45_one_hot', 84.32640933990479), ('discrete_sub_grade_32_one_hot', 81.04016995429993), ('discrete_sub_grade_18_one_hot', 80.67032933235168), ('discrete_addr_state_11_one_hot', 77.84118914604187), ('discrete_addr_state_22_one_hot', 69.82744932174683), ('discrete_addr_state_47_one_hot', 65.59076046943665), ('discrete_sub_grade_5_one_hot', 65.04627084732056), ('discrete_addr_state_34_one_hot', 55.31824028491974), ('discrete_purpose_9_one_hot', 53.53832006454468), ('discrete_addr_state_29_one_hot', 51.82202994823456), ('discrete_emp_length_4_one_hot', 50.089980125427246), ('discrete_addr_state_1_one_hot', 42.9163601398468), ('discrete_sub_grade_14_one_hot', 40.62849044799805), ('discrete_emp_length_5_one_hot', 38.074129700660706), ('discrete_sub_grade_12_one_hot', 32.22800016403198), ('discrete_sub_grade_9_one_hot', 30.3431396484375), ('discrete_sub_grade_2_one_hot', 28.33377981185913), ('discrete_addr_state_28_one_hot', 22.813649654388428), ('discrete_addr_state_31_one_hot', 22.01023006439209), ('discrete_sub_grade_15_one_hot', 21.94154977798462), ('discrete_grade_6_one_hot', 17.70001983642578), ('discrete_purpose_7_one_hot', 12.789860248565674), ('discrete_addr_state_7_one_hot', 12.325850009918213), ('discrete_addr_state_10_one_hot', 12.08046007156372), ('discrete_sub_grade_26_one_hot', 11.43983006477356), ('discrete_addr_state_20_one_hot', 11.385979890823364), ('discrete_addr_state_5_one_hot', 9.4173002243042), ('discrete_addr_state_6_one_hot', 8.43172013759613), ('continuous_annual_inc_joint', 7.21707010269165), ('discrete_sub_grade_7_one_hot', 5.2230000495910645), ('discrete_sub_grade_21_one_hot', 5.009180068969727), ('discrete_addr_state_38_one_hot', 3.957159996032715), ('discrete_addr_state_44_one_hot', 2.352710008621216), ('discrete_addr_state_2_one_hot', 0.0), ('discrete_addr_state_26_one_hot', 0.0), ('discrete_addr_state_30_one_hot', 0.0), ('discrete_addr_state_41_one_hot', 0.0), ('discrete_addr_state_42_one_hot', 0.0), ('discrete_addr_state_48_one_hot', 0.0), ('discrete_addr_state_49_one_hot', 0.0), ('discrete_application_type_1_one_hot', 0.0), ('discrete_application_type_2_one_hot', 0.0), ('discrete_grade_5_one_hot', 0.0), ('discrete_grade_7_one_hot', 0.0), ('discrete_home_ownership_4_one_hot', 0.0), ('discrete_policy_code_1_one_hot', 0.0), ('discrete_purpose_8_one_hot', 0.0), ('discrete_purpose_12_one_hot', 0.0), ('discrete_pymnt_plan_1_one_hot', 0.0), ('discrete_sub_grade_17_one_hot', 0.0), ('discrete_sub_grade_27_one_hot', 0.0), ('discrete_sub_grade_30_one_hot', 0.0), ('discrete_sub_grade_31_one_hot', 0.0), ('discrete_sub_grade_33_one_hot', 0.0), ('discrete_sub_grade_34_one_hot', 0.0), ('discrete_sub_grade_35_one_hot', 0.0)]\n"
          ],
          "name": "stdout"
        }
      ]
    },
    {
      "cell_type": "markdown",
      "metadata": {
        "id": "BAgbwvByjD0a"
      },
      "source": [
        "# SHAP and force plots\n",
        "---\n",
        "In this code snippet, we demonstrate the process of using SHAP values and force plots to examine the cause of bad cases. Additional information can be found [here](https://shap.readthedocs.io/en/latest/example_notebooks/tabular_examples/tree_based_models/Census%20income%20classification%20with%20LightGBM.html)."
      ]
    },
    {
      "cell_type": "code",
      "metadata": {
        "colab": {
          "base_uri": "https://localhost:8080/"
        },
        "id": "DV3qmnFRjk4b",
        "outputId": "2d65e5d7-b436-4a41-a02f-b73dda4801b0"
      },
      "source": [
        "!pip install shap"
      ],
      "execution_count": null,
      "outputs": [
        {
          "output_type": "stream",
          "text": [
            "Collecting shap\n",
            "  Downloading shap-0.39.0.tar.gz (356 kB)\n",
            "\u001b[?25l\r\u001b[K     |█                               | 10 kB 11.9 MB/s eta 0:00:01\r\u001b[K     |█▉                              | 20 kB 18.3 MB/s eta 0:00:01\r\u001b[K     |██▊                             | 30 kB 20.4 MB/s eta 0:00:01\r\u001b[K     |███▊                            | 40 kB 23.0 MB/s eta 0:00:01\r\u001b[K     |████▋                           | 51 kB 18.7 MB/s eta 0:00:01\r\u001b[K     |█████▌                          | 61 kB 20.5 MB/s eta 0:00:01\r\u001b[K     |██████▍                         | 71 kB 13.4 MB/s eta 0:00:01\r\u001b[K     |███████▍                        | 81 kB 14.7 MB/s eta 0:00:01\r\u001b[K     |████████▎                       | 92 kB 14.4 MB/s eta 0:00:01\r\u001b[K     |█████████▏                      | 102 kB 15.5 MB/s eta 0:00:01\r\u001b[K     |██████████▏                     | 112 kB 15.5 MB/s eta 0:00:01\r\u001b[K     |███████████                     | 122 kB 15.5 MB/s eta 0:00:01\r\u001b[K     |████████████                    | 133 kB 15.5 MB/s eta 0:00:01\r\u001b[K     |████████████▉                   | 143 kB 15.5 MB/s eta 0:00:01\r\u001b[K     |█████████████▉                  | 153 kB 15.5 MB/s eta 0:00:01\r\u001b[K     |██████████████▊                 | 163 kB 15.5 MB/s eta 0:00:01\r\u001b[K     |███████████████▋                | 174 kB 15.5 MB/s eta 0:00:01\r\u001b[K     |████████████████▋               | 184 kB 15.5 MB/s eta 0:00:01\r\u001b[K     |█████████████████▌              | 194 kB 15.5 MB/s eta 0:00:01\r\u001b[K     |██████████████████▍             | 204 kB 15.5 MB/s eta 0:00:01\r\u001b[K     |███████████████████▎            | 215 kB 15.5 MB/s eta 0:00:01\r\u001b[K     |████████████████████▎           | 225 kB 15.5 MB/s eta 0:00:01\r\u001b[K     |█████████████████████▏          | 235 kB 15.5 MB/s eta 0:00:01\r\u001b[K     |██████████████████████          | 245 kB 15.5 MB/s eta 0:00:01\r\u001b[K     |███████████████████████         | 256 kB 15.5 MB/s eta 0:00:01\r\u001b[K     |████████████████████████        | 266 kB 15.5 MB/s eta 0:00:01\r\u001b[K     |████████████████████████▉       | 276 kB 15.5 MB/s eta 0:00:01\r\u001b[K     |█████████████████████████▊      | 286 kB 15.5 MB/s eta 0:00:01\r\u001b[K     |██████████████████████████▊     | 296 kB 15.5 MB/s eta 0:00:01\r\u001b[K     |███████████████████████████▋    | 307 kB 15.5 MB/s eta 0:00:01\r\u001b[K     |████████████████████████████▌   | 317 kB 15.5 MB/s eta 0:00:01\r\u001b[K     |█████████████████████████████▍  | 327 kB 15.5 MB/s eta 0:00:01\r\u001b[K     |██████████████████████████████▍ | 337 kB 15.5 MB/s eta 0:00:01\r\u001b[K     |███████████████████████████████▎| 348 kB 15.5 MB/s eta 0:00:01\r\u001b[K     |████████████████████████████████| 356 kB 15.5 MB/s \n",
            "\u001b[?25hRequirement already satisfied: numpy in /usr/local/lib/python3.7/dist-packages (from shap) (1.19.5)\n",
            "Requirement already satisfied: scipy in /usr/local/lib/python3.7/dist-packages (from shap) (1.4.1)\n",
            "Requirement already satisfied: scikit-learn in /usr/local/lib/python3.7/dist-packages (from shap) (0.22.2.post1)\n",
            "Requirement already satisfied: pandas in /usr/local/lib/python3.7/dist-packages (from shap) (1.1.5)\n",
            "Requirement already satisfied: tqdm>4.25.0 in /usr/local/lib/python3.7/dist-packages (from shap) (4.62.0)\n",
            "Collecting slicer==0.0.7\n",
            "  Downloading slicer-0.0.7-py3-none-any.whl (14 kB)\n",
            "Requirement already satisfied: numba in /usr/local/lib/python3.7/dist-packages (from shap) (0.51.2)\n",
            "Requirement already satisfied: cloudpickle in /usr/local/lib/python3.7/dist-packages (from shap) (1.3.0)\n",
            "Requirement already satisfied: setuptools in /usr/local/lib/python3.7/dist-packages (from numba->shap) (57.4.0)\n",
            "Requirement already satisfied: llvmlite<0.35,>=0.34.0.dev0 in /usr/local/lib/python3.7/dist-packages (from numba->shap) (0.34.0)\n",
            "Requirement already satisfied: pytz>=2017.2 in /usr/local/lib/python3.7/dist-packages (from pandas->shap) (2018.9)\n",
            "Requirement already satisfied: python-dateutil>=2.7.3 in /usr/local/lib/python3.7/dist-packages (from pandas->shap) (2.8.2)\n",
            "Requirement already satisfied: six>=1.5 in /usr/local/lib/python3.7/dist-packages (from python-dateutil>=2.7.3->pandas->shap) (1.15.0)\n",
            "Requirement already satisfied: joblib>=0.11 in /usr/local/lib/python3.7/dist-packages (from scikit-learn->shap) (1.0.1)\n",
            "Building wheels for collected packages: shap\n",
            "  Building wheel for shap (setup.py) ... \u001b[?25l\u001b[?25hdone\n",
            "  Created wheel for shap: filename=shap-0.39.0-cp37-cp37m-linux_x86_64.whl size=491650 sha256=d1f93269ce7bcb3c2aabce9cde98c9caa048b596edbb5b5c95e8abadeb0cd1bc\n",
            "  Stored in directory: /root/.cache/pip/wheels/ca/25/8f/6ae5df62c32651cd719e972e738a8aaa4a87414c4d2b14c9c0\n",
            "Successfully built shap\n",
            "Installing collected packages: slicer, shap\n",
            "Successfully installed shap-0.39.0 slicer-0.0.7\n"
          ],
          "name": "stdout"
        }
      ]
    },
    {
      "cell_type": "code",
      "metadata": {
        "colab": {
          "base_uri": "https://localhost:8080/",
          "height": 326
        },
        "id": "rzF7Z15BkfG9",
        "outputId": "a7e9ec4e-cfbe-48d9-a785-a60a990ec5e2"
      },
      "source": [
        "import shap\n",
        "explainer = shap.TreeExplainer(models[0])\n",
        "shap_values = explainer.shap_values(train_add.drop(columns='loan_status')) # This will take some time"
      ],
      "execution_count": null,
      "outputs": [
        {
          "output_type": "error",
          "ename": "KeyError",
          "evalue": "ignored",
          "traceback": [
            "\u001b[0;31m---------------------------------------------------------------------------\u001b[0m",
            "\u001b[0;31mKeyError\u001b[0m                                  Traceback (most recent call last)",
            "\u001b[0;32m<ipython-input-109-b98ea63cd8bb>\u001b[0m in \u001b[0;36m<module>\u001b[0;34m()\u001b[0m\n\u001b[1;32m      1\u001b[0m \u001b[0;32mimport\u001b[0m \u001b[0mshap\u001b[0m\u001b[0;34m\u001b[0m\u001b[0;34m\u001b[0m\u001b[0m\n\u001b[1;32m      2\u001b[0m \u001b[0mexplainer\u001b[0m \u001b[0;34m=\u001b[0m \u001b[0mshap\u001b[0m\u001b[0;34m.\u001b[0m\u001b[0mTreeExplainer\u001b[0m\u001b[0;34m(\u001b[0m\u001b[0mmodels\u001b[0m\u001b[0;34m[\u001b[0m\u001b[0;36m0\u001b[0m\u001b[0;34m]\u001b[0m\u001b[0;34m)\u001b[0m\u001b[0;34m\u001b[0m\u001b[0;34m\u001b[0m\u001b[0m\n\u001b[0;32m----> 3\u001b[0;31m \u001b[0mshap_values\u001b[0m \u001b[0;34m=\u001b[0m \u001b[0mexplainer\u001b[0m\u001b[0;34m.\u001b[0m\u001b[0mshap_values\u001b[0m\u001b[0;34m(\u001b[0m\u001b[0mtrain_add\u001b[0m\u001b[0;34m.\u001b[0m\u001b[0mdrop\u001b[0m\u001b[0;34m(\u001b[0m\u001b[0mcolumns\u001b[0m\u001b[0;34m=\u001b[0m\u001b[0;34m'loan_status'\u001b[0m\u001b[0;34m)\u001b[0m\u001b[0;34m)\u001b[0m \u001b[0;31m# This will take some time\u001b[0m\u001b[0;34m\u001b[0m\u001b[0;34m\u001b[0m\u001b[0m\n\u001b[0m",
            "\u001b[0;32m/usr/local/lib/python3.7/dist-packages/shap/explainers/_tree.py\u001b[0m in \u001b[0;36mshap_values\u001b[0;34m(self, X, y, tree_limit, approximate, check_additivity, from_call)\u001b[0m\n\u001b[1;32m    345\u001b[0m                 \u001b[0mphi\u001b[0m \u001b[0;34m=\u001b[0m \u001b[0mself\u001b[0m\u001b[0;34m.\u001b[0m\u001b[0mmodel\u001b[0m\u001b[0;34m.\u001b[0m\u001b[0moriginal_model\u001b[0m\u001b[0;34m.\u001b[0m\u001b[0mpredict\u001b[0m\u001b[0;34m(\u001b[0m\u001b[0mX\u001b[0m\u001b[0;34m,\u001b[0m \u001b[0mnum_iteration\u001b[0m\u001b[0;34m=\u001b[0m\u001b[0mtree_limit\u001b[0m\u001b[0;34m,\u001b[0m \u001b[0mpred_contrib\u001b[0m\u001b[0;34m=\u001b[0m\u001b[0;32mTrue\u001b[0m\u001b[0;34m)\u001b[0m\u001b[0;34m\u001b[0m\u001b[0;34m\u001b[0m\u001b[0m\n\u001b[1;32m    346\u001b[0m                 \u001b[0;31m# Note: the data must be joined on the last axis\u001b[0m\u001b[0;34m\u001b[0m\u001b[0;34m\u001b[0m\u001b[0;34m\u001b[0m\u001b[0m\n\u001b[0;32m--> 347\u001b[0;31m                 \u001b[0;32mif\u001b[0m \u001b[0mself\u001b[0m\u001b[0;34m.\u001b[0m\u001b[0mmodel\u001b[0m\u001b[0;34m.\u001b[0m\u001b[0moriginal_model\u001b[0m\u001b[0;34m.\u001b[0m\u001b[0mparams\u001b[0m\u001b[0;34m[\u001b[0m\u001b[0;34m'objective'\u001b[0m\u001b[0;34m]\u001b[0m \u001b[0;34m==\u001b[0m \u001b[0;34m'binary'\u001b[0m\u001b[0;34m:\u001b[0m\u001b[0;34m\u001b[0m\u001b[0;34m\u001b[0m\u001b[0m\n\u001b[0m\u001b[1;32m    348\u001b[0m                     \u001b[0;32mif\u001b[0m \u001b[0;32mnot\u001b[0m \u001b[0mfrom_call\u001b[0m\u001b[0;34m:\u001b[0m\u001b[0;34m\u001b[0m\u001b[0;34m\u001b[0m\u001b[0m\n\u001b[1;32m    349\u001b[0m                         \u001b[0mwarnings\u001b[0m\u001b[0;34m.\u001b[0m\u001b[0mwarn\u001b[0m\u001b[0;34m(\u001b[0m\u001b[0;34m'LightGBM binary classifier with TreeExplainer shap values output has changed to a list of ndarray'\u001b[0m\u001b[0;34m)\u001b[0m\u001b[0;34m\u001b[0m\u001b[0;34m\u001b[0m\u001b[0m\n",
            "\u001b[0;31mKeyError\u001b[0m: 'objective'"
          ]
        }
      ]
    },
    {
      "cell_type": "code",
      "metadata": {
        "id": "fPCErXLp5YsD"
      },
      "source": [
        ""
      ],
      "execution_count": null,
      "outputs": []
    },
    {
      "cell_type": "code",
      "metadata": {
        "id": "3Af8BlxIlas2"
      },
      "source": [
        "x = train_add.drop(columns='loan_status')\n",
        "shap.force_plot(explainer.expected_value[1], shap_values[1][0,:], x.iloc[0,:])\n"
      ],
      "execution_count": null,
      "outputs": []
    },
    {
      "cell_type": "markdown",
      "metadata": {
        "id": "E3VvpUDTeuZg"
      },
      "source": [
        "# Learning a Bayesian Network\n",
        "---\n",
        "This small example demonstrates how to create a Bayesian Network using R. Pay attention that it is usually desirable to input discretized data! "
      ]
    },
    {
      "cell_type": "code",
      "metadata": {
        "id": "oEaFMU24cPo7"
      },
      "source": [
        "%load_ext rpy2.ipython"
      ],
      "execution_count": 48,
      "outputs": []
    },
    {
      "cell_type": "code",
      "metadata": {
        "id": "0RWfNi0ecS5i",
        "colab": {
          "base_uri": "https://localhost:8080/"
        },
        "outputId": "d585438d-754f-4a33-eb8b-c4dff77b5973"
      },
      "source": [
        "%%R\n",
        "install.packages(\"bnlearn\")"
      ],
      "execution_count": 49,
      "outputs": [
        {
          "output_type": "stream",
          "text": [
            "R[write to console]: Installing package into ‘/usr/local/lib/R/site-library’\n",
            "(as ‘lib’ is unspecified)\n",
            "\n",
            "R[write to console]: trying URL 'https://cran.rstudio.com/src/contrib/bnlearn_4.6.1.tar.gz'\n",
            "\n",
            "R[write to console]: Content type 'application/x-gzip'\n",
            "R[write to console]:  length 1287342 bytes (1.2 MB)\n",
            "\n",
            "R[write to console]: =\n",
            "R[write to console]: =\n",
            "R[write to console]: =\n",
            "R[write to console]: =\n",
            "R[write to console]: =\n",
            "R[write to console]: =\n",
            "R[write to console]: =\n",
            "R[write to console]: =\n",
            "R[write to console]: =\n",
            "R[write to console]: =\n",
            "R[write to console]: =\n",
            "R[write to console]: =\n",
            "R[write to console]: =\n",
            "R[write to console]: =\n",
            "R[write to console]: =\n",
            "R[write to console]: =\n",
            "R[write to console]: =\n",
            "R[write to console]: =\n",
            "R[write to console]: =\n",
            "R[write to console]: =\n",
            "R[write to console]: =\n",
            "R[write to console]: =\n",
            "R[write to console]: =\n",
            "R[write to console]: =\n",
            "R[write to console]: =\n",
            "R[write to console]: =\n",
            "R[write to console]: =\n",
            "R[write to console]: =\n",
            "R[write to console]: =\n",
            "R[write to console]: =\n",
            "R[write to console]: =\n",
            "R[write to console]: =\n",
            "R[write to console]: =\n",
            "R[write to console]: =\n",
            "R[write to console]: =\n",
            "R[write to console]: =\n",
            "R[write to console]: =\n",
            "R[write to console]: =\n",
            "R[write to console]: =\n",
            "R[write to console]: =\n",
            "R[write to console]: =\n",
            "R[write to console]: =\n",
            "R[write to console]: =\n",
            "R[write to console]: =\n",
            "R[write to console]: =\n",
            "R[write to console]: =\n",
            "R[write to console]: =\n",
            "R[write to console]: =\n",
            "R[write to console]: =\n",
            "R[write to console]: =\n",
            "R[write to console]: \n",
            "\n",
            "R[write to console]: downloaded 1.2 MB\n",
            "\n",
            "\n",
            "R[write to console]: \n",
            "\n",
            "R[write to console]: \n",
            "R[write to console]: The downloaded source packages are in\n",
            "\t‘/tmp/Rtmp4RHy1S/downloaded_packages’\n",
            "R[write to console]: \n",
            "R[write to console]: \n",
            "\n"
          ],
          "name": "stderr"
        }
      ]
    },
    {
      "cell_type": "code",
      "metadata": {
        "id": "ziXd29IXchw2"
      },
      "source": [
        "%%R\n",
        "library(bnlearn)"
      ],
      "execution_count": 50,
      "outputs": []
    },
    {
      "cell_type": "code",
      "metadata": {
        "id": "x8KmSpQpdEkf"
      },
      "source": [
        "%%R\n",
        "data(marks)"
      ],
      "execution_count": 51,
      "outputs": []
    },
    {
      "cell_type": "code",
      "metadata": {
        "colab": {
          "base_uri": "https://localhost:8080/"
        },
        "id": "tex3LJage5Zv",
        "outputId": "ba28ce74-f0ed-4e1e-fe29-49784e718738"
      },
      "source": [
        "%%R\n",
        "summary(marks)"
      ],
      "execution_count": 52,
      "outputs": [
        {
          "output_type": "stream",
          "text": [
            "      MECH            VECT            ALG             ANL       \n",
            " Min.   : 0.00   Min.   : 9.00   Min.   :15.00   Min.   : 9.00  \n",
            " 1st Qu.:30.00   1st Qu.:42.00   1st Qu.:45.00   1st Qu.:35.75  \n",
            " Median :41.50   Median :51.00   Median :50.00   Median :49.00  \n",
            " Mean   :38.95   Mean   :50.59   Mean   :50.60   Mean   :46.68  \n",
            " 3rd Qu.:49.25   3rd Qu.:60.00   3rd Qu.:57.25   3rd Qu.:57.00  \n",
            " Max.   :77.00   Max.   :82.00   Max.   :80.00   Max.   :70.00  \n",
            "      STAT      \n",
            " Min.   : 9.00  \n",
            " 1st Qu.:31.00  \n",
            " Median :40.00  \n",
            " Mean   :42.31  \n",
            " 3rd Qu.:51.50  \n",
            " Max.   :81.00  \n"
          ],
          "name": "stdout"
        }
      ]
    },
    {
      "cell_type": "code",
      "metadata": {
        "id": "rGwgxHjAe9Gz"
      },
      "source": [
        "%%R\n",
        "bn.gs = gs(marks)"
      ],
      "execution_count": 53,
      "outputs": []
    },
    {
      "cell_type": "code",
      "metadata": {
        "colab": {
          "base_uri": "https://localhost:8080/"
        },
        "id": "CElHBKqbftJU",
        "outputId": "2296fc1a-e365-4bc3-c0cb-a3579325f432"
      },
      "source": [
        "%%R\n",
        "bn.gs"
      ],
      "execution_count": 54,
      "outputs": [
        {
          "output_type": "stream",
          "text": [
            "\n",
            "  Bayesian network learned via Constraint-based methods\n",
            "\n",
            "  model:\n",
            "    [undirected graph]\n",
            "  nodes:                                 5 \n",
            "  arcs:                                  6 \n",
            "    undirected arcs:                     6 \n",
            "    directed arcs:                       0 \n",
            "  average markov blanket size:           2.40 \n",
            "  average neighbourhood size:            2.40 \n",
            "  average branching factor:              0.00 \n",
            "\n",
            "  learning algorithm:                    Grow-Shrink \n",
            "  conditional independence test:         Pearson's Correlation \n",
            "  alpha threshold:                       0.05 \n",
            "  tests used in the learning procedure:  80 \n",
            "\n"
          ],
          "name": "stdout"
        }
      ]
    },
    {
      "cell_type": "code",
      "metadata": {
        "colab": {
          "base_uri": "https://localhost:8080/",
          "height": 497
        },
        "id": "TjoqRrDGfuAr",
        "outputId": "58c478cd-62ca-4f99-834c-74097415c92d"
      },
      "source": [
        "%%R\n",
        "plot(bn.gs)"
      ],
      "execution_count": 55,
      "outputs": [
        {
          "output_type": "display_data",
          "data": {
            "image/png": "[encoded data removed]"
          },
          "metadata": {}
        }
      ]
    }
  ]
}